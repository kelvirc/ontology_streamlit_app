{
  "nbformat": 4,
  "nbformat_minor": 0,
  "metadata": {
    "colab": {
      "provenance": [],
      "gpuType": "T4"
    },
    "kernelspec": {
      "name": "python3",
      "display_name": "Python 3"
    },
    "language_info": {
      "name": "python"
    },
    "accelerator": "GPU",
    "widgets": {
      "application/vnd.jupyter.widget-state+json": {
        "75e8b3429d8340a09bf59cd154c27b13": {
          "model_module": "@jupyter-widgets/controls",
          "model_name": "HBoxModel",
          "model_module_version": "1.5.0",
          "state": {
            "_dom_classes": [],
            "_model_module": "@jupyter-widgets/controls",
            "_model_module_version": "1.5.0",
            "_model_name": "HBoxModel",
            "_view_count": null,
            "_view_module": "@jupyter-widgets/controls",
            "_view_module_version": "1.5.0",
            "_view_name": "HBoxView",
            "box_style": "",
            "children": [
              "IPY_MODEL_d48076e8da6c4a42959b553c3f400664",
              "IPY_MODEL_fbd38e34e4994dda84309b18fa74333a",
              "IPY_MODEL_0d85077bc39648aea1501e86bd8e83bd"
            ],
            "layout": "IPY_MODEL_5d1c795aad47416b9a2e5fc77776cd19"
          }
        },
        "d48076e8da6c4a42959b553c3f400664": {
          "model_module": "@jupyter-widgets/controls",
          "model_name": "HTMLModel",
          "model_module_version": "1.5.0",
          "state": {
            "_dom_classes": [],
            "_model_module": "@jupyter-widgets/controls",
            "_model_module_version": "1.5.0",
            "_model_name": "HTMLModel",
            "_view_count": null,
            "_view_module": "@jupyter-widgets/controls",
            "_view_module_version": "1.5.0",
            "_view_name": "HTMLView",
            "description": "",
            "description_tooltip": null,
            "layout": "IPY_MODEL_b49ab6d9417b4fc19fa9fed56d140945",
            "placeholder": "​",
            "style": "IPY_MODEL_2e2fdf8756524ceca7e34977e2584c11",
            "value": "config.json: 100%"
          }
        },
        "fbd38e34e4994dda84309b18fa74333a": {
          "model_module": "@jupyter-widgets/controls",
          "model_name": "FloatProgressModel",
          "model_module_version": "1.5.0",
          "state": {
            "_dom_classes": [],
            "_model_module": "@jupyter-widgets/controls",
            "_model_module_version": "1.5.0",
            "_model_name": "FloatProgressModel",
            "_view_count": null,
            "_view_module": "@jupyter-widgets/controls",
            "_view_module_version": "1.5.0",
            "_view_name": "ProgressView",
            "bar_style": "success",
            "description": "",
            "description_tooltip": null,
            "layout": "IPY_MODEL_c38e84655b884e0d94dd0b59235fe55f",
            "max": 385,
            "min": 0,
            "orientation": "horizontal",
            "style": "IPY_MODEL_07685de0c46a454a8829bfd1d49672eb",
            "value": 385
          }
        },
        "0d85077bc39648aea1501e86bd8e83bd": {
          "model_module": "@jupyter-widgets/controls",
          "model_name": "HTMLModel",
          "model_module_version": "1.5.0",
          "state": {
            "_dom_classes": [],
            "_model_module": "@jupyter-widgets/controls",
            "_model_module_version": "1.5.0",
            "_model_name": "HTMLModel",
            "_view_count": null,
            "_view_module": "@jupyter-widgets/controls",
            "_view_module_version": "1.5.0",
            "_view_name": "HTMLView",
            "description": "",
            "description_tooltip": null,
            "layout": "IPY_MODEL_bb5a56975e764888ae0d0de59dabed48",
            "placeholder": "​",
            "style": "IPY_MODEL_9e3a6dfa5d204723adecc6c28eb2d550",
            "value": " 385/385 [00:00&lt;00:00, 8.36kB/s]"
          }
        },
        "5d1c795aad47416b9a2e5fc77776cd19": {
          "model_module": "@jupyter-widgets/base",
          "model_name": "LayoutModel",
          "model_module_version": "1.2.0",
          "state": {
            "_model_module": "@jupyter-widgets/base",
            "_model_module_version": "1.2.0",
            "_model_name": "LayoutModel",
            "_view_count": null,
            "_view_module": "@jupyter-widgets/base",
            "_view_module_version": "1.2.0",
            "_view_name": "LayoutView",
            "align_content": null,
            "align_items": null,
            "align_self": null,
            "border": null,
            "bottom": null,
            "display": null,
            "flex": null,
            "flex_flow": null,
            "grid_area": null,
            "grid_auto_columns": null,
            "grid_auto_flow": null,
            "grid_auto_rows": null,
            "grid_column": null,
            "grid_gap": null,
            "grid_row": null,
            "grid_template_areas": null,
            "grid_template_columns": null,
            "grid_template_rows": null,
            "height": null,
            "justify_content": null,
            "justify_items": null,
            "left": null,
            "margin": null,
            "max_height": null,
            "max_width": null,
            "min_height": null,
            "min_width": null,
            "object_fit": null,
            "object_position": null,
            "order": null,
            "overflow": null,
            "overflow_x": null,
            "overflow_y": null,
            "padding": null,
            "right": null,
            "top": null,
            "visibility": null,
            "width": null
          }
        },
        "b49ab6d9417b4fc19fa9fed56d140945": {
          "model_module": "@jupyter-widgets/base",
          "model_name": "LayoutModel",
          "model_module_version": "1.2.0",
          "state": {
            "_model_module": "@jupyter-widgets/base",
            "_model_module_version": "1.2.0",
            "_model_name": "LayoutModel",
            "_view_count": null,
            "_view_module": "@jupyter-widgets/base",
            "_view_module_version": "1.2.0",
            "_view_name": "LayoutView",
            "align_content": null,
            "align_items": null,
            "align_self": null,
            "border": null,
            "bottom": null,
            "display": null,
            "flex": null,
            "flex_flow": null,
            "grid_area": null,
            "grid_auto_columns": null,
            "grid_auto_flow": null,
            "grid_auto_rows": null,
            "grid_column": null,
            "grid_gap": null,
            "grid_row": null,
            "grid_template_areas": null,
            "grid_template_columns": null,
            "grid_template_rows": null,
            "height": null,
            "justify_content": null,
            "justify_items": null,
            "left": null,
            "margin": null,
            "max_height": null,
            "max_width": null,
            "min_height": null,
            "min_width": null,
            "object_fit": null,
            "object_position": null,
            "order": null,
            "overflow": null,
            "overflow_x": null,
            "overflow_y": null,
            "padding": null,
            "right": null,
            "top": null,
            "visibility": null,
            "width": null
          }
        },
        "2e2fdf8756524ceca7e34977e2584c11": {
          "model_module": "@jupyter-widgets/controls",
          "model_name": "DescriptionStyleModel",
          "model_module_version": "1.5.0",
          "state": {
            "_model_module": "@jupyter-widgets/controls",
            "_model_module_version": "1.5.0",
            "_model_name": "DescriptionStyleModel",
            "_view_count": null,
            "_view_module": "@jupyter-widgets/base",
            "_view_module_version": "1.2.0",
            "_view_name": "StyleView",
            "description_width": ""
          }
        },
        "c38e84655b884e0d94dd0b59235fe55f": {
          "model_module": "@jupyter-widgets/base",
          "model_name": "LayoutModel",
          "model_module_version": "1.2.0",
          "state": {
            "_model_module": "@jupyter-widgets/base",
            "_model_module_version": "1.2.0",
            "_model_name": "LayoutModel",
            "_view_count": null,
            "_view_module": "@jupyter-widgets/base",
            "_view_module_version": "1.2.0",
            "_view_name": "LayoutView",
            "align_content": null,
            "align_items": null,
            "align_self": null,
            "border": null,
            "bottom": null,
            "display": null,
            "flex": null,
            "flex_flow": null,
            "grid_area": null,
            "grid_auto_columns": null,
            "grid_auto_flow": null,
            "grid_auto_rows": null,
            "grid_column": null,
            "grid_gap": null,
            "grid_row": null,
            "grid_template_areas": null,
            "grid_template_columns": null,
            "grid_template_rows": null,
            "height": null,
            "justify_content": null,
            "justify_items": null,
            "left": null,
            "margin": null,
            "max_height": null,
            "max_width": null,
            "min_height": null,
            "min_width": null,
            "object_fit": null,
            "object_position": null,
            "order": null,
            "overflow": null,
            "overflow_x": null,
            "overflow_y": null,
            "padding": null,
            "right": null,
            "top": null,
            "visibility": null,
            "width": null
          }
        },
        "07685de0c46a454a8829bfd1d49672eb": {
          "model_module": "@jupyter-widgets/controls",
          "model_name": "ProgressStyleModel",
          "model_module_version": "1.5.0",
          "state": {
            "_model_module": "@jupyter-widgets/controls",
            "_model_module_version": "1.5.0",
            "_model_name": "ProgressStyleModel",
            "_view_count": null,
            "_view_module": "@jupyter-widgets/base",
            "_view_module_version": "1.2.0",
            "_view_name": "StyleView",
            "bar_color": null,
            "description_width": ""
          }
        },
        "bb5a56975e764888ae0d0de59dabed48": {
          "model_module": "@jupyter-widgets/base",
          "model_name": "LayoutModel",
          "model_module_version": "1.2.0",
          "state": {
            "_model_module": "@jupyter-widgets/base",
            "_model_module_version": "1.2.0",
            "_model_name": "LayoutModel",
            "_view_count": null,
            "_view_module": "@jupyter-widgets/base",
            "_view_module_version": "1.2.0",
            "_view_name": "LayoutView",
            "align_content": null,
            "align_items": null,
            "align_self": null,
            "border": null,
            "bottom": null,
            "display": null,
            "flex": null,
            "flex_flow": null,
            "grid_area": null,
            "grid_auto_columns": null,
            "grid_auto_flow": null,
            "grid_auto_rows": null,
            "grid_column": null,
            "grid_gap": null,
            "grid_row": null,
            "grid_template_areas": null,
            "grid_template_columns": null,
            "grid_template_rows": null,
            "height": null,
            "justify_content": null,
            "justify_items": null,
            "left": null,
            "margin": null,
            "max_height": null,
            "max_width": null,
            "min_height": null,
            "min_width": null,
            "object_fit": null,
            "object_position": null,
            "order": null,
            "overflow": null,
            "overflow_x": null,
            "overflow_y": null,
            "padding": null,
            "right": null,
            "top": null,
            "visibility": null,
            "width": null
          }
        },
        "9e3a6dfa5d204723adecc6c28eb2d550": {
          "model_module": "@jupyter-widgets/controls",
          "model_name": "DescriptionStyleModel",
          "model_module_version": "1.5.0",
          "state": {
            "_model_module": "@jupyter-widgets/controls",
            "_model_module_version": "1.5.0",
            "_model_name": "DescriptionStyleModel",
            "_view_count": null,
            "_view_module": "@jupyter-widgets/base",
            "_view_module_version": "1.2.0",
            "_view_name": "StyleView",
            "description_width": ""
          }
        },
        "f102ffd068404947b87dccb9fa35abb8": {
          "model_module": "@jupyter-widgets/controls",
          "model_name": "HBoxModel",
          "model_module_version": "1.5.0",
          "state": {
            "_dom_classes": [],
            "_model_module": "@jupyter-widgets/controls",
            "_model_module_version": "1.5.0",
            "_model_name": "HBoxModel",
            "_view_count": null,
            "_view_module": "@jupyter-widgets/controls",
            "_view_module_version": "1.5.0",
            "_view_name": "HBoxView",
            "box_style": "",
            "children": [
              "IPY_MODEL_f6362967754a4300a9c93c31106daeec",
              "IPY_MODEL_a08b9b68ef9d42839da3de3ebc0af212",
              "IPY_MODEL_1299a5756aa44d5ab45314b1c10b9b07"
            ],
            "layout": "IPY_MODEL_ce834c65158f49d5a5c5d6b58100c004"
          }
        },
        "f6362967754a4300a9c93c31106daeec": {
          "model_module": "@jupyter-widgets/controls",
          "model_name": "HTMLModel",
          "model_module_version": "1.5.0",
          "state": {
            "_dom_classes": [],
            "_model_module": "@jupyter-widgets/controls",
            "_model_module_version": "1.5.0",
            "_model_name": "HTMLModel",
            "_view_count": null,
            "_view_module": "@jupyter-widgets/controls",
            "_view_module_version": "1.5.0",
            "_view_name": "HTMLView",
            "description": "",
            "description_tooltip": null,
            "layout": "IPY_MODEL_57284f317e8944a69018cb5729b7c92a",
            "placeholder": "​",
            "style": "IPY_MODEL_64e610d933a8430e974f327d3a397874",
            "value": "vocab.txt: 100%"
          }
        },
        "a08b9b68ef9d42839da3de3ebc0af212": {
          "model_module": "@jupyter-widgets/controls",
          "model_name": "FloatProgressModel",
          "model_module_version": "1.5.0",
          "state": {
            "_dom_classes": [],
            "_model_module": "@jupyter-widgets/controls",
            "_model_module_version": "1.5.0",
            "_model_name": "FloatProgressModel",
            "_view_count": null,
            "_view_module": "@jupyter-widgets/controls",
            "_view_module_version": "1.5.0",
            "_view_name": "ProgressView",
            "bar_style": "success",
            "description": "",
            "description_tooltip": null,
            "layout": "IPY_MODEL_7cd8ae57c0b34ce88d0bfcb0da735d83",
            "max": 227845,
            "min": 0,
            "orientation": "horizontal",
            "style": "IPY_MODEL_acc0fe5e3a8f4403b53d098ce812f4c2",
            "value": 227845
          }
        },
        "1299a5756aa44d5ab45314b1c10b9b07": {
          "model_module": "@jupyter-widgets/controls",
          "model_name": "HTMLModel",
          "model_module_version": "1.5.0",
          "state": {
            "_dom_classes": [],
            "_model_module": "@jupyter-widgets/controls",
            "_model_module_version": "1.5.0",
            "_model_name": "HTMLModel",
            "_view_count": null,
            "_view_module": "@jupyter-widgets/controls",
            "_view_module_version": "1.5.0",
            "_view_name": "HTMLView",
            "description": "",
            "description_tooltip": null,
            "layout": "IPY_MODEL_716ce75ef5f144e285b186246bea62bc",
            "placeholder": "​",
            "style": "IPY_MODEL_e2cca88e62ce425bb191d06f3dbabe78",
            "value": " 228k/228k [00:00&lt;00:00, 2.72MB/s]"
          }
        },
        "ce834c65158f49d5a5c5d6b58100c004": {
          "model_module": "@jupyter-widgets/base",
          "model_name": "LayoutModel",
          "model_module_version": "1.2.0",
          "state": {
            "_model_module": "@jupyter-widgets/base",
            "_model_module_version": "1.2.0",
            "_model_name": "LayoutModel",
            "_view_count": null,
            "_view_module": "@jupyter-widgets/base",
            "_view_module_version": "1.2.0",
            "_view_name": "LayoutView",
            "align_content": null,
            "align_items": null,
            "align_self": null,
            "border": null,
            "bottom": null,
            "display": null,
            "flex": null,
            "flex_flow": null,
            "grid_area": null,
            "grid_auto_columns": null,
            "grid_auto_flow": null,
            "grid_auto_rows": null,
            "grid_column": null,
            "grid_gap": null,
            "grid_row": null,
            "grid_template_areas": null,
            "grid_template_columns": null,
            "grid_template_rows": null,
            "height": null,
            "justify_content": null,
            "justify_items": null,
            "left": null,
            "margin": null,
            "max_height": null,
            "max_width": null,
            "min_height": null,
            "min_width": null,
            "object_fit": null,
            "object_position": null,
            "order": null,
            "overflow": null,
            "overflow_x": null,
            "overflow_y": null,
            "padding": null,
            "right": null,
            "top": null,
            "visibility": null,
            "width": null
          }
        },
        "57284f317e8944a69018cb5729b7c92a": {
          "model_module": "@jupyter-widgets/base",
          "model_name": "LayoutModel",
          "model_module_version": "1.2.0",
          "state": {
            "_model_module": "@jupyter-widgets/base",
            "_model_module_version": "1.2.0",
            "_model_name": "LayoutModel",
            "_view_count": null,
            "_view_module": "@jupyter-widgets/base",
            "_view_module_version": "1.2.0",
            "_view_name": "LayoutView",
            "align_content": null,
            "align_items": null,
            "align_self": null,
            "border": null,
            "bottom": null,
            "display": null,
            "flex": null,
            "flex_flow": null,
            "grid_area": null,
            "grid_auto_columns": null,
            "grid_auto_flow": null,
            "grid_auto_rows": null,
            "grid_column": null,
            "grid_gap": null,
            "grid_row": null,
            "grid_template_areas": null,
            "grid_template_columns": null,
            "grid_template_rows": null,
            "height": null,
            "justify_content": null,
            "justify_items": null,
            "left": null,
            "margin": null,
            "max_height": null,
            "max_width": null,
            "min_height": null,
            "min_width": null,
            "object_fit": null,
            "object_position": null,
            "order": null,
            "overflow": null,
            "overflow_x": null,
            "overflow_y": null,
            "padding": null,
            "right": null,
            "top": null,
            "visibility": null,
            "width": null
          }
        },
        "64e610d933a8430e974f327d3a397874": {
          "model_module": "@jupyter-widgets/controls",
          "model_name": "DescriptionStyleModel",
          "model_module_version": "1.5.0",
          "state": {
            "_model_module": "@jupyter-widgets/controls",
            "_model_module_version": "1.5.0",
            "_model_name": "DescriptionStyleModel",
            "_view_count": null,
            "_view_module": "@jupyter-widgets/base",
            "_view_module_version": "1.2.0",
            "_view_name": "StyleView",
            "description_width": ""
          }
        },
        "7cd8ae57c0b34ce88d0bfcb0da735d83": {
          "model_module": "@jupyter-widgets/base",
          "model_name": "LayoutModel",
          "model_module_version": "1.2.0",
          "state": {
            "_model_module": "@jupyter-widgets/base",
            "_model_module_version": "1.2.0",
            "_model_name": "LayoutModel",
            "_view_count": null,
            "_view_module": "@jupyter-widgets/base",
            "_view_module_version": "1.2.0",
            "_view_name": "LayoutView",
            "align_content": null,
            "align_items": null,
            "align_self": null,
            "border": null,
            "bottom": null,
            "display": null,
            "flex": null,
            "flex_flow": null,
            "grid_area": null,
            "grid_auto_columns": null,
            "grid_auto_flow": null,
            "grid_auto_rows": null,
            "grid_column": null,
            "grid_gap": null,
            "grid_row": null,
            "grid_template_areas": null,
            "grid_template_columns": null,
            "grid_template_rows": null,
            "height": null,
            "justify_content": null,
            "justify_items": null,
            "left": null,
            "margin": null,
            "max_height": null,
            "max_width": null,
            "min_height": null,
            "min_width": null,
            "object_fit": null,
            "object_position": null,
            "order": null,
            "overflow": null,
            "overflow_x": null,
            "overflow_y": null,
            "padding": null,
            "right": null,
            "top": null,
            "visibility": null,
            "width": null
          }
        },
        "acc0fe5e3a8f4403b53d098ce812f4c2": {
          "model_module": "@jupyter-widgets/controls",
          "model_name": "ProgressStyleModel",
          "model_module_version": "1.5.0",
          "state": {
            "_model_module": "@jupyter-widgets/controls",
            "_model_module_version": "1.5.0",
            "_model_name": "ProgressStyleModel",
            "_view_count": null,
            "_view_module": "@jupyter-widgets/base",
            "_view_module_version": "1.2.0",
            "_view_name": "StyleView",
            "bar_color": null,
            "description_width": ""
          }
        },
        "716ce75ef5f144e285b186246bea62bc": {
          "model_module": "@jupyter-widgets/base",
          "model_name": "LayoutModel",
          "model_module_version": "1.2.0",
          "state": {
            "_model_module": "@jupyter-widgets/base",
            "_model_module_version": "1.2.0",
            "_model_name": "LayoutModel",
            "_view_count": null,
            "_view_module": "@jupyter-widgets/base",
            "_view_module_version": "1.2.0",
            "_view_name": "LayoutView",
            "align_content": null,
            "align_items": null,
            "align_self": null,
            "border": null,
            "bottom": null,
            "display": null,
            "flex": null,
            "flex_flow": null,
            "grid_area": null,
            "grid_auto_columns": null,
            "grid_auto_flow": null,
            "grid_auto_rows": null,
            "grid_column": null,
            "grid_gap": null,
            "grid_row": null,
            "grid_template_areas": null,
            "grid_template_columns": null,
            "grid_template_rows": null,
            "height": null,
            "justify_content": null,
            "justify_items": null,
            "left": null,
            "margin": null,
            "max_height": null,
            "max_width": null,
            "min_height": null,
            "min_width": null,
            "object_fit": null,
            "object_position": null,
            "order": null,
            "overflow": null,
            "overflow_x": null,
            "overflow_y": null,
            "padding": null,
            "right": null,
            "top": null,
            "visibility": null,
            "width": null
          }
        },
        "e2cca88e62ce425bb191d06f3dbabe78": {
          "model_module": "@jupyter-widgets/controls",
          "model_name": "DescriptionStyleModel",
          "model_module_version": "1.5.0",
          "state": {
            "_model_module": "@jupyter-widgets/controls",
            "_model_module_version": "1.5.0",
            "_model_name": "DescriptionStyleModel",
            "_view_count": null,
            "_view_module": "@jupyter-widgets/base",
            "_view_module_version": "1.2.0",
            "_view_name": "StyleView",
            "description_width": ""
          }
        },
        "f8473b5de9f54eac8dc7c16853c2b1f7": {
          "model_module": "@jupyter-widgets/controls",
          "model_name": "HBoxModel",
          "model_module_version": "1.5.0",
          "state": {
            "_dom_classes": [],
            "_model_module": "@jupyter-widgets/controls",
            "_model_module_version": "1.5.0",
            "_model_name": "HBoxModel",
            "_view_count": null,
            "_view_module": "@jupyter-widgets/controls",
            "_view_module_version": "1.5.0",
            "_view_name": "HBoxView",
            "box_style": "",
            "children": [
              "IPY_MODEL_96c5e7072e804e8e9cdc09c4c6d05d9a",
              "IPY_MODEL_0063316b0fed4e3b978a46e1dd1e4209",
              "IPY_MODEL_81161228773b4d3b9fdb16212579336e"
            ],
            "layout": "IPY_MODEL_ccae16f6950244ab9a6b45456d9e3374"
          }
        },
        "96c5e7072e804e8e9cdc09c4c6d05d9a": {
          "model_module": "@jupyter-widgets/controls",
          "model_name": "HTMLModel",
          "model_module_version": "1.5.0",
          "state": {
            "_dom_classes": [],
            "_model_module": "@jupyter-widgets/controls",
            "_model_module_version": "1.5.0",
            "_model_name": "HTMLModel",
            "_view_count": null,
            "_view_module": "@jupyter-widgets/controls",
            "_view_module_version": "1.5.0",
            "_view_name": "HTMLView",
            "description": "",
            "description_tooltip": null,
            "layout": "IPY_MODEL_ddb537dc3e654e35b77a65502bef324d",
            "placeholder": "​",
            "style": "IPY_MODEL_72ffb92e7f6c485a91d64e0cf0520cfd",
            "value": "pytorch_model.bin: 100%"
          }
        },
        "0063316b0fed4e3b978a46e1dd1e4209": {
          "model_module": "@jupyter-widgets/controls",
          "model_name": "FloatProgressModel",
          "model_module_version": "1.5.0",
          "state": {
            "_dom_classes": [],
            "_model_module": "@jupyter-widgets/controls",
            "_model_module_version": "1.5.0",
            "_model_name": "FloatProgressModel",
            "_view_count": null,
            "_view_module": "@jupyter-widgets/controls",
            "_view_module_version": "1.5.0",
            "_view_name": "ProgressView",
            "bar_style": "success",
            "description": "",
            "description_tooltip": null,
            "layout": "IPY_MODEL_793c95b5752746baa4704520067f66d3",
            "max": 442221694,
            "min": 0,
            "orientation": "horizontal",
            "style": "IPY_MODEL_6555a37d7b3e455a958334933542d998",
            "value": 442221694
          }
        },
        "81161228773b4d3b9fdb16212579336e": {
          "model_module": "@jupyter-widgets/controls",
          "model_name": "HTMLModel",
          "model_module_version": "1.5.0",
          "state": {
            "_dom_classes": [],
            "_model_module": "@jupyter-widgets/controls",
            "_model_module_version": "1.5.0",
            "_model_name": "HTMLModel",
            "_view_count": null,
            "_view_module": "@jupyter-widgets/controls",
            "_view_module_version": "1.5.0",
            "_view_name": "HTMLView",
            "description": "",
            "description_tooltip": null,
            "layout": "IPY_MODEL_e74c451f1b874911b32bc1ba030f0f2f",
            "placeholder": "​",
            "style": "IPY_MODEL_6bf51bb15cf34012bbd1491133ebc738",
            "value": " 442M/442M [00:03&lt;00:00, 150MB/s]"
          }
        },
        "ccae16f6950244ab9a6b45456d9e3374": {
          "model_module": "@jupyter-widgets/base",
          "model_name": "LayoutModel",
          "model_module_version": "1.2.0",
          "state": {
            "_model_module": "@jupyter-widgets/base",
            "_model_module_version": "1.2.0",
            "_model_name": "LayoutModel",
            "_view_count": null,
            "_view_module": "@jupyter-widgets/base",
            "_view_module_version": "1.2.0",
            "_view_name": "LayoutView",
            "align_content": null,
            "align_items": null,
            "align_self": null,
            "border": null,
            "bottom": null,
            "display": null,
            "flex": null,
            "flex_flow": null,
            "grid_area": null,
            "grid_auto_columns": null,
            "grid_auto_flow": null,
            "grid_auto_rows": null,
            "grid_column": null,
            "grid_gap": null,
            "grid_row": null,
            "grid_template_areas": null,
            "grid_template_columns": null,
            "grid_template_rows": null,
            "height": null,
            "justify_content": null,
            "justify_items": null,
            "left": null,
            "margin": null,
            "max_height": null,
            "max_width": null,
            "min_height": null,
            "min_width": null,
            "object_fit": null,
            "object_position": null,
            "order": null,
            "overflow": null,
            "overflow_x": null,
            "overflow_y": null,
            "padding": null,
            "right": null,
            "top": null,
            "visibility": null,
            "width": null
          }
        },
        "ddb537dc3e654e35b77a65502bef324d": {
          "model_module": "@jupyter-widgets/base",
          "model_name": "LayoutModel",
          "model_module_version": "1.2.0",
          "state": {
            "_model_module": "@jupyter-widgets/base",
            "_model_module_version": "1.2.0",
            "_model_name": "LayoutModel",
            "_view_count": null,
            "_view_module": "@jupyter-widgets/base",
            "_view_module_version": "1.2.0",
            "_view_name": "LayoutView",
            "align_content": null,
            "align_items": null,
            "align_self": null,
            "border": null,
            "bottom": null,
            "display": null,
            "flex": null,
            "flex_flow": null,
            "grid_area": null,
            "grid_auto_columns": null,
            "grid_auto_flow": null,
            "grid_auto_rows": null,
            "grid_column": null,
            "grid_gap": null,
            "grid_row": null,
            "grid_template_areas": null,
            "grid_template_columns": null,
            "grid_template_rows": null,
            "height": null,
            "justify_content": null,
            "justify_items": null,
            "left": null,
            "margin": null,
            "max_height": null,
            "max_width": null,
            "min_height": null,
            "min_width": null,
            "object_fit": null,
            "object_position": null,
            "order": null,
            "overflow": null,
            "overflow_x": null,
            "overflow_y": null,
            "padding": null,
            "right": null,
            "top": null,
            "visibility": null,
            "width": null
          }
        },
        "72ffb92e7f6c485a91d64e0cf0520cfd": {
          "model_module": "@jupyter-widgets/controls",
          "model_name": "DescriptionStyleModel",
          "model_module_version": "1.5.0",
          "state": {
            "_model_module": "@jupyter-widgets/controls",
            "_model_module_version": "1.5.0",
            "_model_name": "DescriptionStyleModel",
            "_view_count": null,
            "_view_module": "@jupyter-widgets/base",
            "_view_module_version": "1.2.0",
            "_view_name": "StyleView",
            "description_width": ""
          }
        },
        "793c95b5752746baa4704520067f66d3": {
          "model_module": "@jupyter-widgets/base",
          "model_name": "LayoutModel",
          "model_module_version": "1.2.0",
          "state": {
            "_model_module": "@jupyter-widgets/base",
            "_model_module_version": "1.2.0",
            "_model_name": "LayoutModel",
            "_view_count": null,
            "_view_module": "@jupyter-widgets/base",
            "_view_module_version": "1.2.0",
            "_view_name": "LayoutView",
            "align_content": null,
            "align_items": null,
            "align_self": null,
            "border": null,
            "bottom": null,
            "display": null,
            "flex": null,
            "flex_flow": null,
            "grid_area": null,
            "grid_auto_columns": null,
            "grid_auto_flow": null,
            "grid_auto_rows": null,
            "grid_column": null,
            "grid_gap": null,
            "grid_row": null,
            "grid_template_areas": null,
            "grid_template_columns": null,
            "grid_template_rows": null,
            "height": null,
            "justify_content": null,
            "justify_items": null,
            "left": null,
            "margin": null,
            "max_height": null,
            "max_width": null,
            "min_height": null,
            "min_width": null,
            "object_fit": null,
            "object_position": null,
            "order": null,
            "overflow": null,
            "overflow_x": null,
            "overflow_y": null,
            "padding": null,
            "right": null,
            "top": null,
            "visibility": null,
            "width": null
          }
        },
        "6555a37d7b3e455a958334933542d998": {
          "model_module": "@jupyter-widgets/controls",
          "model_name": "ProgressStyleModel",
          "model_module_version": "1.5.0",
          "state": {
            "_model_module": "@jupyter-widgets/controls",
            "_model_module_version": "1.5.0",
            "_model_name": "ProgressStyleModel",
            "_view_count": null,
            "_view_module": "@jupyter-widgets/base",
            "_view_module_version": "1.2.0",
            "_view_name": "StyleView",
            "bar_color": null,
            "description_width": ""
          }
        },
        "e74c451f1b874911b32bc1ba030f0f2f": {
          "model_module": "@jupyter-widgets/base",
          "model_name": "LayoutModel",
          "model_module_version": "1.2.0",
          "state": {
            "_model_module": "@jupyter-widgets/base",
            "_model_module_version": "1.2.0",
            "_model_name": "LayoutModel",
            "_view_count": null,
            "_view_module": "@jupyter-widgets/base",
            "_view_module_version": "1.2.0",
            "_view_name": "LayoutView",
            "align_content": null,
            "align_items": null,
            "align_self": null,
            "border": null,
            "bottom": null,
            "display": null,
            "flex": null,
            "flex_flow": null,
            "grid_area": null,
            "grid_auto_columns": null,
            "grid_auto_flow": null,
            "grid_auto_rows": null,
            "grid_column": null,
            "grid_gap": null,
            "grid_row": null,
            "grid_template_areas": null,
            "grid_template_columns": null,
            "grid_template_rows": null,
            "height": null,
            "justify_content": null,
            "justify_items": null,
            "left": null,
            "margin": null,
            "max_height": null,
            "max_width": null,
            "min_height": null,
            "min_width": null,
            "object_fit": null,
            "object_position": null,
            "order": null,
            "overflow": null,
            "overflow_x": null,
            "overflow_y": null,
            "padding": null,
            "right": null,
            "top": null,
            "visibility": null,
            "width": null
          }
        },
        "6bf51bb15cf34012bbd1491133ebc738": {
          "model_module": "@jupyter-widgets/controls",
          "model_name": "DescriptionStyleModel",
          "model_module_version": "1.5.0",
          "state": {
            "_model_module": "@jupyter-widgets/controls",
            "_model_module_version": "1.5.0",
            "_model_name": "DescriptionStyleModel",
            "_view_count": null,
            "_view_module": "@jupyter-widgets/base",
            "_view_module_version": "1.2.0",
            "_view_name": "StyleView",
            "description_width": ""
          }
        }
      }
    }
  },
  "cells": [
    {
      "cell_type": "code",
      "execution_count": 1,
      "metadata": {
        "colab": {
          "base_uri": "https://localhost:8080/"
        },
        "id": "yN9UFcdTrjGu",
        "outputId": "3ef4d5e8-3558-4935-be96-47ccde9d833b"
      },
      "outputs": [
        {
          "output_type": "stream",
          "name": "stderr",
          "text": [
            "/usr/local/lib/python3.10/dist-packages/transformers/deepspeed.py:23: FutureWarning: transformers.deepspeed module is deprecated and will be removed in a future version. Please import deepspeed modules directly from transformers.integrations\n",
            "  warnings.warn(\n",
            "/usr/local/lib/python3.10/dist-packages/huggingface_hub/utils/_token.py:89: UserWarning: \n",
            "The secret `HF_TOKEN` does not exist in your Colab secrets.\n",
            "To authenticate with the Hugging Face Hub, create a token in your settings tab (https://huggingface.co/settings/tokens), set it as secret in your Google Colab and restart your session.\n",
            "You will be able to reuse this secret in all of your notebooks.\n",
            "Please note that authentication is recommended but still optional to access public models or datasets.\n",
            "  warnings.warn(\n"
          ]
        }
      ],
      "source": [
        "import duckdb\n",
        "import pandas as pd\n",
        "import torch\n",
        "from transformers import *\n",
        "import numpy as np\n",
        "#from keras.preprocessing.sequence import pad_sequences\n",
        "from sklearn.metrics.pairwise import cosine_similarity"
      ]
    },
    {
      "cell_type": "code",
      "source": [
        "print(torch.cuda.is_available())\n",
        "print(torch.cuda.current_device())\n",
        "print(torch.cuda.device_count())\n",
        "print(torch.cuda.get_device_name(0))"
      ],
      "metadata": {
        "colab": {
          "base_uri": "https://localhost:8080/"
        },
        "id": "yo0bnWj2r_nq",
        "outputId": "2896778f-da20-4d31-cffa-8f94d13813ab"
      },
      "execution_count": 2,
      "outputs": [
        {
          "output_type": "stream",
          "name": "stdout",
          "text": [
            "True\n",
            "0\n",
            "1\n",
            "Tesla T4\n"
          ]
        }
      ]
    },
    {
      "cell_type": "code",
      "source": [
        "#filtering the ontology for level_3  research method and data analysis method.\n",
        "ontology_df = pd.read_csv('ontology.csv')\n",
        "\n",
        "#filtering the ontology for level_3  research method and data analysis method.\n",
        "\n",
        "synonyms_df = pd.read_csv('synonyms.csv')\n"
      ],
      "metadata": {
        "id": "yZ1qD2CnsCyH"
      },
      "execution_count": 4,
      "outputs": []
    },
    {
      "cell_type": "code",
      "source": [
        "synonyms_df.info()"
      ],
      "metadata": {
        "colab": {
          "base_uri": "https://localhost:8080/"
        },
        "id": "q2QjGQr5tMJA",
        "outputId": "24c2aaa8-ee73-49af-dff0-e1541a1fc269"
      },
      "execution_count": 5,
      "outputs": [
        {
          "output_type": "stream",
          "name": "stdout",
          "text": [
            "<class 'pandas.core.frame.DataFrame'>\n",
            "RangeIndex: 31770 entries, 0 to 31769\n",
            "Data columns (total 1 columns):\n",
            " #   Column   Non-Null Count  Dtype \n",
            "---  ------   --------------  ----- \n",
            " 0   synonym  31770 non-null  object\n",
            "dtypes: object(1)\n",
            "memory usage: 248.3+ KB\n"
          ]
        }
      ]
    },
    {
      "cell_type": "code",
      "source": [
        "synonyms_df[\"synonym\"].nunique()"
      ],
      "metadata": {
        "colab": {
          "base_uri": "https://localhost:8080/"
        },
        "id": "N40nAnHntOL_",
        "outputId": "4819022b-5d21-4600-990a-24ce3e6c933e"
      },
      "execution_count": 6,
      "outputs": [
        {
          "output_type": "execute_result",
          "data": {
            "text/plain": [
              "31770"
            ]
          },
          "metadata": {},
          "execution_count": 6
        }
      ]
    },
    {
      "cell_type": "markdown",
      "source": [
        "###  'research method' is in the ontology but not in ent_id of the synonyms table"
      ],
      "metadata": {
        "id": "g9twxfTHtXZH"
      }
    },
    {
      "cell_type": "code",
      "source": [
        "print('Before ', synonyms_df.shape)\n",
        "synonyms_df.drop_duplicates(inplace=True)\n",
        "print('After: ', synonyms_df.shape)\n",
        "#resetting index to avoid issues\n",
        "synonyms_df.reset_index(drop=True, inplace=True)"
      ],
      "metadata": {
        "colab": {
          "base_uri": "https://localhost:8080/"
        },
        "id": "eBOViLwytX_4",
        "outputId": "e996263d-5feb-47ae-8c01-e0a6973000f4"
      },
      "execution_count": 8,
      "outputs": [
        {
          "output_type": "stream",
          "name": "stdout",
          "text": [
            "Before  (31770, 1)\n",
            "After:  (31770, 1)\n"
          ]
        }
      ]
    },
    {
      "cell_type": "code",
      "source": [
        "ontology_df.head()"
      ],
      "metadata": {
        "colab": {
          "base_uri": "https://localhost:8080/",
          "height": 590
        },
        "id": "xsIZ9EdqtauQ",
        "outputId": "49b404a2-662f-479c-9f5f-de1be9c66569"
      },
      "execution_count": 9,
      "outputs": [
        {
          "output_type": "execute_result",
          "data": {
            "text/plain": [
              "                           ent_id  \\\n",
              "0                 research method   \n",
              "1               conceptual method   \n",
              "2                literature study   \n",
              "3  structured literature research   \n",
              "4               literature sample   \n",
              "\n",
              "                                          definition              label  \\\n",
              "0  A research method is a systematic plan for con...                NaN   \n",
              "1  A conceptual method refers to a systematic app...  CONCEPTUAL_METHOD   \n",
              "2  A literature study is a systematic and compreh...  CONCEPTUAL_METHOD   \n",
              "3  Structured literature research is a methodical...  CONCEPTUAL_METHOD   \n",
              "4  A literature sample refers to a specific piece...  CONCEPTUAL_METHOD   \n",
              "\n",
              "                           parent  level related level_1  \\\n",
              "0           methodological entity    3.0     NaN  entity   \n",
              "1                 research method    4.0     NaN  entity   \n",
              "2               conceptual method    5.0     NaN  entity   \n",
              "3                literature study    6.0     NaN  entity   \n",
              "4  structured literature research    7.0     NaN  entity   \n",
              "\n",
              "                 level_2          level_3            level_4  \\\n",
              "0  methodological entity  research method                NaN   \n",
              "1  methodological entity  research method  conceptual method   \n",
              "2  methodological entity  research method  conceptual method   \n",
              "3  methodological entity  research method  conceptual method   \n",
              "4  methodological entity  research method  conceptual method   \n",
              "\n",
              "            level_5                         level_6            level_7  \\\n",
              "0               NaN                             NaN                NaN   \n",
              "1               NaN                             NaN                NaN   \n",
              "2  literature study                             NaN                NaN   \n",
              "3  literature study  structured literature research                NaN   \n",
              "4  literature study  structured literature research  literature sample   \n",
              "\n",
              "  level_8 level_9 level_10  \n",
              "0     NaN     NaN      NaN  \n",
              "1     NaN     NaN      NaN  \n",
              "2     NaN     NaN      NaN  \n",
              "3     NaN     NaN      NaN  \n",
              "4     NaN     NaN      NaN  "
            ],
            "text/html": [
              "\n",
              "  <div id=\"df-025cc063-bd54-47ac-a55d-9925d1dc4ba9\" class=\"colab-df-container\">\n",
              "    <div>\n",
              "<style scoped>\n",
              "    .dataframe tbody tr th:only-of-type {\n",
              "        vertical-align: middle;\n",
              "    }\n",
              "\n",
              "    .dataframe tbody tr th {\n",
              "        vertical-align: top;\n",
              "    }\n",
              "\n",
              "    .dataframe thead th {\n",
              "        text-align: right;\n",
              "    }\n",
              "</style>\n",
              "<table border=\"1\" class=\"dataframe\">\n",
              "  <thead>\n",
              "    <tr style=\"text-align: right;\">\n",
              "      <th></th>\n",
              "      <th>ent_id</th>\n",
              "      <th>definition</th>\n",
              "      <th>label</th>\n",
              "      <th>parent</th>\n",
              "      <th>level</th>\n",
              "      <th>related</th>\n",
              "      <th>level_1</th>\n",
              "      <th>level_2</th>\n",
              "      <th>level_3</th>\n",
              "      <th>level_4</th>\n",
              "      <th>level_5</th>\n",
              "      <th>level_6</th>\n",
              "      <th>level_7</th>\n",
              "      <th>level_8</th>\n",
              "      <th>level_9</th>\n",
              "      <th>level_10</th>\n",
              "    </tr>\n",
              "  </thead>\n",
              "  <tbody>\n",
              "    <tr>\n",
              "      <th>0</th>\n",
              "      <td>research method</td>\n",
              "      <td>A research method is a systematic plan for con...</td>\n",
              "      <td>NaN</td>\n",
              "      <td>methodological entity</td>\n",
              "      <td>3.0</td>\n",
              "      <td>NaN</td>\n",
              "      <td>entity</td>\n",
              "      <td>methodological entity</td>\n",
              "      <td>research method</td>\n",
              "      <td>NaN</td>\n",
              "      <td>NaN</td>\n",
              "      <td>NaN</td>\n",
              "      <td>NaN</td>\n",
              "      <td>NaN</td>\n",
              "      <td>NaN</td>\n",
              "      <td>NaN</td>\n",
              "    </tr>\n",
              "    <tr>\n",
              "      <th>1</th>\n",
              "      <td>conceptual method</td>\n",
              "      <td>A conceptual method refers to a systematic app...</td>\n",
              "      <td>CONCEPTUAL_METHOD</td>\n",
              "      <td>research method</td>\n",
              "      <td>4.0</td>\n",
              "      <td>NaN</td>\n",
              "      <td>entity</td>\n",
              "      <td>methodological entity</td>\n",
              "      <td>research method</td>\n",
              "      <td>conceptual method</td>\n",
              "      <td>NaN</td>\n",
              "      <td>NaN</td>\n",
              "      <td>NaN</td>\n",
              "      <td>NaN</td>\n",
              "      <td>NaN</td>\n",
              "      <td>NaN</td>\n",
              "    </tr>\n",
              "    <tr>\n",
              "      <th>2</th>\n",
              "      <td>literature study</td>\n",
              "      <td>A literature study is a systematic and compreh...</td>\n",
              "      <td>CONCEPTUAL_METHOD</td>\n",
              "      <td>conceptual method</td>\n",
              "      <td>5.0</td>\n",
              "      <td>NaN</td>\n",
              "      <td>entity</td>\n",
              "      <td>methodological entity</td>\n",
              "      <td>research method</td>\n",
              "      <td>conceptual method</td>\n",
              "      <td>literature study</td>\n",
              "      <td>NaN</td>\n",
              "      <td>NaN</td>\n",
              "      <td>NaN</td>\n",
              "      <td>NaN</td>\n",
              "      <td>NaN</td>\n",
              "    </tr>\n",
              "    <tr>\n",
              "      <th>3</th>\n",
              "      <td>structured literature research</td>\n",
              "      <td>Structured literature research is a methodical...</td>\n",
              "      <td>CONCEPTUAL_METHOD</td>\n",
              "      <td>literature study</td>\n",
              "      <td>6.0</td>\n",
              "      <td>NaN</td>\n",
              "      <td>entity</td>\n",
              "      <td>methodological entity</td>\n",
              "      <td>research method</td>\n",
              "      <td>conceptual method</td>\n",
              "      <td>literature study</td>\n",
              "      <td>structured literature research</td>\n",
              "      <td>NaN</td>\n",
              "      <td>NaN</td>\n",
              "      <td>NaN</td>\n",
              "      <td>NaN</td>\n",
              "    </tr>\n",
              "    <tr>\n",
              "      <th>4</th>\n",
              "      <td>literature sample</td>\n",
              "      <td>A literature sample refers to a specific piece...</td>\n",
              "      <td>CONCEPTUAL_METHOD</td>\n",
              "      <td>structured literature research</td>\n",
              "      <td>7.0</td>\n",
              "      <td>NaN</td>\n",
              "      <td>entity</td>\n",
              "      <td>methodological entity</td>\n",
              "      <td>research method</td>\n",
              "      <td>conceptual method</td>\n",
              "      <td>literature study</td>\n",
              "      <td>structured literature research</td>\n",
              "      <td>literature sample</td>\n",
              "      <td>NaN</td>\n",
              "      <td>NaN</td>\n",
              "      <td>NaN</td>\n",
              "    </tr>\n",
              "  </tbody>\n",
              "</table>\n",
              "</div>\n",
              "    <div class=\"colab-df-buttons\">\n",
              "\n",
              "  <div class=\"colab-df-container\">\n",
              "    <button class=\"colab-df-convert\" onclick=\"convertToInteractive('df-025cc063-bd54-47ac-a55d-9925d1dc4ba9')\"\n",
              "            title=\"Convert this dataframe to an interactive table.\"\n",
              "            style=\"display:none;\">\n",
              "\n",
              "  <svg xmlns=\"http://www.w3.org/2000/svg\" height=\"24px\" viewBox=\"0 -960 960 960\">\n",
              "    <path d=\"M120-120v-720h720v720H120Zm60-500h600v-160H180v160Zm220 220h160v-160H400v160Zm0 220h160v-160H400v160ZM180-400h160v-160H180v160Zm440 0h160v-160H620v160ZM180-180h160v-160H180v160Zm440 0h160v-160H620v160Z\"/>\n",
              "  </svg>\n",
              "    </button>\n",
              "\n",
              "  <style>\n",
              "    .colab-df-container {\n",
              "      display:flex;\n",
              "      gap: 12px;\n",
              "    }\n",
              "\n",
              "    .colab-df-convert {\n",
              "      background-color: #E8F0FE;\n",
              "      border: none;\n",
              "      border-radius: 50%;\n",
              "      cursor: pointer;\n",
              "      display: none;\n",
              "      fill: #1967D2;\n",
              "      height: 32px;\n",
              "      padding: 0 0 0 0;\n",
              "      width: 32px;\n",
              "    }\n",
              "\n",
              "    .colab-df-convert:hover {\n",
              "      background-color: #E2EBFA;\n",
              "      box-shadow: 0px 1px 2px rgba(60, 64, 67, 0.3), 0px 1px 3px 1px rgba(60, 64, 67, 0.15);\n",
              "      fill: #174EA6;\n",
              "    }\n",
              "\n",
              "    .colab-df-buttons div {\n",
              "      margin-bottom: 4px;\n",
              "    }\n",
              "\n",
              "    [theme=dark] .colab-df-convert {\n",
              "      background-color: #3B4455;\n",
              "      fill: #D2E3FC;\n",
              "    }\n",
              "\n",
              "    [theme=dark] .colab-df-convert:hover {\n",
              "      background-color: #434B5C;\n",
              "      box-shadow: 0px 1px 3px 1px rgba(0, 0, 0, 0.15);\n",
              "      filter: drop-shadow(0px 1px 2px rgba(0, 0, 0, 0.3));\n",
              "      fill: #FFFFFF;\n",
              "    }\n",
              "  </style>\n",
              "\n",
              "    <script>\n",
              "      const buttonEl =\n",
              "        document.querySelector('#df-025cc063-bd54-47ac-a55d-9925d1dc4ba9 button.colab-df-convert');\n",
              "      buttonEl.style.display =\n",
              "        google.colab.kernel.accessAllowed ? 'block' : 'none';\n",
              "\n",
              "      async function convertToInteractive(key) {\n",
              "        const element = document.querySelector('#df-025cc063-bd54-47ac-a55d-9925d1dc4ba9');\n",
              "        const dataTable =\n",
              "          await google.colab.kernel.invokeFunction('convertToInteractive',\n",
              "                                                    [key], {});\n",
              "        if (!dataTable) return;\n",
              "\n",
              "        const docLinkHtml = 'Like what you see? Visit the ' +\n",
              "          '<a target=\"_blank\" href=https://colab.research.google.com/notebooks/data_table.ipynb>data table notebook</a>'\n",
              "          + ' to learn more about interactive tables.';\n",
              "        element.innerHTML = '';\n",
              "        dataTable['output_type'] = 'display_data';\n",
              "        await google.colab.output.renderOutput(dataTable, element);\n",
              "        const docLink = document.createElement('div');\n",
              "        docLink.innerHTML = docLinkHtml;\n",
              "        element.appendChild(docLink);\n",
              "      }\n",
              "    </script>\n",
              "  </div>\n",
              "\n",
              "\n",
              "<div id=\"df-7773bcd3-a4d9-4405-be31-0c68a238cf12\">\n",
              "  <button class=\"colab-df-quickchart\" onclick=\"quickchart('df-7773bcd3-a4d9-4405-be31-0c68a238cf12')\"\n",
              "            title=\"Suggest charts\"\n",
              "            style=\"display:none;\">\n",
              "\n",
              "<svg xmlns=\"http://www.w3.org/2000/svg\" height=\"24px\"viewBox=\"0 0 24 24\"\n",
              "     width=\"24px\">\n",
              "    <g>\n",
              "        <path d=\"M19 3H5c-1.1 0-2 .9-2 2v14c0 1.1.9 2 2 2h14c1.1 0 2-.9 2-2V5c0-1.1-.9-2-2-2zM9 17H7v-7h2v7zm4 0h-2V7h2v10zm4 0h-2v-4h2v4z\"/>\n",
              "    </g>\n",
              "</svg>\n",
              "  </button>\n",
              "\n",
              "<style>\n",
              "  .colab-df-quickchart {\n",
              "      --bg-color: #E8F0FE;\n",
              "      --fill-color: #1967D2;\n",
              "      --hover-bg-color: #E2EBFA;\n",
              "      --hover-fill-color: #174EA6;\n",
              "      --disabled-fill-color: #AAA;\n",
              "      --disabled-bg-color: #DDD;\n",
              "  }\n",
              "\n",
              "  [theme=dark] .colab-df-quickchart {\n",
              "      --bg-color: #3B4455;\n",
              "      --fill-color: #D2E3FC;\n",
              "      --hover-bg-color: #434B5C;\n",
              "      --hover-fill-color: #FFFFFF;\n",
              "      --disabled-bg-color: #3B4455;\n",
              "      --disabled-fill-color: #666;\n",
              "  }\n",
              "\n",
              "  .colab-df-quickchart {\n",
              "    background-color: var(--bg-color);\n",
              "    border: none;\n",
              "    border-radius: 50%;\n",
              "    cursor: pointer;\n",
              "    display: none;\n",
              "    fill: var(--fill-color);\n",
              "    height: 32px;\n",
              "    padding: 0;\n",
              "    width: 32px;\n",
              "  }\n",
              "\n",
              "  .colab-df-quickchart:hover {\n",
              "    background-color: var(--hover-bg-color);\n",
              "    box-shadow: 0 1px 2px rgba(60, 64, 67, 0.3), 0 1px 3px 1px rgba(60, 64, 67, 0.15);\n",
              "    fill: var(--button-hover-fill-color);\n",
              "  }\n",
              "\n",
              "  .colab-df-quickchart-complete:disabled,\n",
              "  .colab-df-quickchart-complete:disabled:hover {\n",
              "    background-color: var(--disabled-bg-color);\n",
              "    fill: var(--disabled-fill-color);\n",
              "    box-shadow: none;\n",
              "  }\n",
              "\n",
              "  .colab-df-spinner {\n",
              "    border: 2px solid var(--fill-color);\n",
              "    border-color: transparent;\n",
              "    border-bottom-color: var(--fill-color);\n",
              "    animation:\n",
              "      spin 1s steps(1) infinite;\n",
              "  }\n",
              "\n",
              "  @keyframes spin {\n",
              "    0% {\n",
              "      border-color: transparent;\n",
              "      border-bottom-color: var(--fill-color);\n",
              "      border-left-color: var(--fill-color);\n",
              "    }\n",
              "    20% {\n",
              "      border-color: transparent;\n",
              "      border-left-color: var(--fill-color);\n",
              "      border-top-color: var(--fill-color);\n",
              "    }\n",
              "    30% {\n",
              "      border-color: transparent;\n",
              "      border-left-color: var(--fill-color);\n",
              "      border-top-color: var(--fill-color);\n",
              "      border-right-color: var(--fill-color);\n",
              "    }\n",
              "    40% {\n",
              "      border-color: transparent;\n",
              "      border-right-color: var(--fill-color);\n",
              "      border-top-color: var(--fill-color);\n",
              "    }\n",
              "    60% {\n",
              "      border-color: transparent;\n",
              "      border-right-color: var(--fill-color);\n",
              "    }\n",
              "    80% {\n",
              "      border-color: transparent;\n",
              "      border-right-color: var(--fill-color);\n",
              "      border-bottom-color: var(--fill-color);\n",
              "    }\n",
              "    90% {\n",
              "      border-color: transparent;\n",
              "      border-bottom-color: var(--fill-color);\n",
              "    }\n",
              "  }\n",
              "</style>\n",
              "\n",
              "  <script>\n",
              "    async function quickchart(key) {\n",
              "      const quickchartButtonEl =\n",
              "        document.querySelector('#' + key + ' button');\n",
              "      quickchartButtonEl.disabled = true;  // To prevent multiple clicks.\n",
              "      quickchartButtonEl.classList.add('colab-df-spinner');\n",
              "      try {\n",
              "        const charts = await google.colab.kernel.invokeFunction(\n",
              "            'suggestCharts', [key], {});\n",
              "      } catch (error) {\n",
              "        console.error('Error during call to suggestCharts:', error);\n",
              "      }\n",
              "      quickchartButtonEl.classList.remove('colab-df-spinner');\n",
              "      quickchartButtonEl.classList.add('colab-df-quickchart-complete');\n",
              "    }\n",
              "    (() => {\n",
              "      let quickchartButtonEl =\n",
              "        document.querySelector('#df-7773bcd3-a4d9-4405-be31-0c68a238cf12 button');\n",
              "      quickchartButtonEl.style.display =\n",
              "        google.colab.kernel.accessAllowed ? 'block' : 'none';\n",
              "    })();\n",
              "  </script>\n",
              "</div>\n",
              "\n",
              "    </div>\n",
              "  </div>\n"
            ],
            "application/vnd.google.colaboratory.intrinsic+json": {
              "type": "dataframe",
              "variable_name": "ontology_df",
              "summary": "{\n  \"name\": \"ontology_df\",\n  \"rows\": 899,\n  \"fields\": [\n    {\n      \"column\": \"ent_id\",\n      \"properties\": {\n        \"dtype\": \"string\",\n        \"num_unique_values\": 899,\n        \"samples\": [\n          \"biographical database\",\n          \"parametric location test\",\n          \"canonical correspondence analysis\"\n        ],\n        \"semantic_type\": \"\",\n        \"description\": \"\"\n      }\n    },\n    {\n      \"column\": \"definition\",\n      \"properties\": {\n        \"dtype\": \"string\",\n        \"num_unique_values\": 899,\n        \"samples\": [\n          \"A biographical database is a specialized type of archival database that systematically collects, organizes, and stores detailed information about individuals' lives and achievements for easy retrieval and analysis.\",\n          \"A parametric location test is a statistical procedure that determines if the central tendency of a given dataset, such as the mean or median, significantly differs from a hypothesized value, assuming that the data follows a specific distribution.\",\n          \"Canonical correspondence analysis is a multivariate statistical method used to elucidate the relationships between biological assemblages of species and their environment by deriving a set of orthogonal axes that maximize the variance of species data explained by environmental variables.\"\n        ],\n        \"semantic_type\": \"\",\n        \"description\": \"\"\n      }\n    },\n    {\n      \"column\": \"label\",\n      \"properties\": {\n        \"dtype\": \"category\",\n        \"num_unique_values\": 3,\n        \"samples\": [\n          \"CONCEPTUAL_METHOD\",\n          \"COLLECTION_METHOD\",\n          \"ANALYSIS_METHOD\"\n        ],\n        \"semantic_type\": \"\",\n        \"description\": \"\"\n      }\n    },\n    {\n      \"column\": \"parent\",\n      \"properties\": {\n        \"dtype\": \"category\",\n        \"num_unique_values\": 220,\n        \"samples\": [\n          \"machine learning process\",\n          \"data transformation\",\n          \"qualitative analysis\"\n        ],\n        \"semantic_type\": \"\",\n        \"description\": \"\"\n      }\n    },\n    {\n      \"column\": \"level\",\n      \"properties\": {\n        \"dtype\": \"number\",\n        \"std\": 1.506407908127413,\n        \"min\": 3.0,\n        \"max\": 13.0,\n        \"num_unique_values\": 11,\n        \"samples\": [\n          8.0,\n          3.0,\n          12.0\n        ],\n        \"semantic_type\": \"\",\n        \"description\": \"\"\n      }\n    },\n    {\n      \"column\": \"related\",\n      \"properties\": {\n        \"dtype\": \"category\",\n        \"num_unique_values\": 21,\n        \"samples\": [\n          \"trade-off analysis method\",\n          \"nonparametric test\",\n          \"information retrieval\"\n        ],\n        \"semantic_type\": \"\",\n        \"description\": \"\"\n      }\n    },\n    {\n      \"column\": \"level_1\",\n      \"properties\": {\n        \"dtype\": \"category\",\n        \"num_unique_values\": 1,\n        \"samples\": [\n          \"entity\"\n        ],\n        \"semantic_type\": \"\",\n        \"description\": \"\"\n      }\n    },\n    {\n      \"column\": \"level_2\",\n      \"properties\": {\n        \"dtype\": \"category\",\n        \"num_unique_values\": 1,\n        \"samples\": [\n          \"methodological entity\"\n        ],\n        \"semantic_type\": \"\",\n        \"description\": \"\"\n      }\n    },\n    {\n      \"column\": \"level_3\",\n      \"properties\": {\n        \"dtype\": \"category\",\n        \"num_unique_values\": 2,\n        \"samples\": [\n          \"data analysis method\"\n        ],\n        \"semantic_type\": \"\",\n        \"description\": \"\"\n      }\n    },\n    {\n      \"column\": \"level_4\",\n      \"properties\": {\n        \"dtype\": \"category\",\n        \"num_unique_values\": 4,\n        \"samples\": [\n          \"data collection method\"\n        ],\n        \"semantic_type\": \"\",\n        \"description\": \"\"\n      }\n    },\n    {\n      \"column\": \"level_5\",\n      \"properties\": {\n        \"dtype\": \"category\",\n        \"num_unique_values\": 48,\n        \"samples\": [\n          \"data transformation\"\n        ],\n        \"semantic_type\": \"\",\n        \"description\": \"\"\n      }\n    },\n    {\n      \"column\": \"level_6\",\n      \"properties\": {\n        \"dtype\": \"category\",\n        \"num_unique_values\": 184,\n        \"samples\": [\n          \"design theory\"\n        ],\n        \"semantic_type\": \"\",\n        \"description\": \"\"\n      }\n    },\n    {\n      \"column\": \"level_7\",\n      \"properties\": {\n        \"dtype\": \"category\",\n        \"num_unique_values\": 199,\n        \"samples\": [\n          \"critical narrative approach\"\n        ],\n        \"semantic_type\": \"\",\n        \"description\": \"\"\n      }\n    },\n    {\n      \"column\": \"level_8\",\n      \"properties\": {\n        \"dtype\": \"category\",\n        \"num_unique_values\": 245,\n        \"samples\": [\n          \"SpringerLink\"\n        ],\n        \"semantic_type\": \"\",\n        \"description\": \"\"\n      }\n    },\n    {\n      \"column\": \"level_9\",\n      \"properties\": {\n        \"dtype\": \"category\",\n        \"num_unique_values\": 140,\n        \"samples\": [\n          \"StanfordNLP\"\n        ],\n        \"semantic_type\": \"\",\n        \"description\": \"\"\n      }\n    },\n    {\n      \"column\": \"level_10\",\n      \"properties\": {\n        \"dtype\": \"category\",\n        \"num_unique_values\": 53,\n        \"samples\": [\n          \"DeBERTa\"\n        ],\n        \"semantic_type\": \"\",\n        \"description\": \"\"\n      }\n    }\n  ]\n}"
            }
          },
          "metadata": {},
          "execution_count": 9
        }
      ]
    },
    {
      "cell_type": "markdown",
      "source": [
        "## Clean dataframe"
      ],
      "metadata": {
        "id": "52FhrToStfuh"
      }
    },
    {
      "cell_type": "code",
      "source": [
        "# Assuming 'data_clean' is a DataFrame with a column named 'text'\n",
        "data_clean_special = synonyms_df.copy() # Create a copy of the original dataframe\n",
        "\n",
        "data_clean_special['text'] = data_clean_special['synonym']\n",
        "del(data_clean_special['synonym'] )"
      ],
      "metadata": {
        "id": "_d5hSgvXtdlg"
      },
      "execution_count": 10,
      "outputs": []
    },
    {
      "cell_type": "code",
      "source": [
        "data_ontology = ontology_df.copy()\n",
        "data_ontology = data_ontology[['parent']]\n",
        "\n",
        "data_ontology['text'] = data_ontology['parent']\n",
        "del(data_ontology['parent'])"
      ],
      "metadata": {
        "id": "jOP60xr6tkPI"
      },
      "execution_count": 11,
      "outputs": []
    },
    {
      "cell_type": "code",
      "source": [
        "print('Before ', data_ontology.shape)\n",
        "data_ontology.drop_duplicates(inplace=True)\n",
        "print('After: ', data_ontology.shape)\n",
        "#resetting index to avoid issues\n",
        "data_ontology.reset_index(drop=True, inplace=True)\n",
        "ontology_df = ontology_df[['parent']]\n",
        "ontology_df.drop_duplicates(inplace=True)\n",
        "ontology_df.reset_index(drop=True, inplace=True)"
      ],
      "metadata": {
        "colab": {
          "base_uri": "https://localhost:8080/"
        },
        "id": "ynF_pKEgtmVy",
        "outputId": "302bb4de-4e15-4dc5-da8e-881e7e4868f2"
      },
      "execution_count": 12,
      "outputs": [
        {
          "output_type": "stream",
          "name": "stdout",
          "text": [
            "Before  (899, 1)\n",
            "After:  (220, 1)\n"
          ]
        },
        {
          "output_type": "stream",
          "name": "stderr",
          "text": [
            "<ipython-input-12-2cb41990ed91>:7: SettingWithCopyWarning: \n",
            "A value is trying to be set on a copy of a slice from a DataFrame\n",
            "\n",
            "See the caveats in the documentation: https://pandas.pydata.org/pandas-docs/stable/user_guide/indexing.html#returning-a-view-versus-a-copy\n",
            "  ontology_df.drop_duplicates(inplace=True)\n"
          ]
        }
      ]
    },
    {
      "cell_type": "code",
      "source": [
        "data_clean = data_clean_special[\"text\"].to_list()\n",
        "data_ontology = ontology_df[\"parent\"].to_list()"
      ],
      "metadata": {
        "id": "WD-kTHIitoX7"
      },
      "execution_count": 13,
      "outputs": []
    },
    {
      "cell_type": "code",
      "source": [
        "\n",
        "# Assuming 'data_clean' is a list of lists where each inner list contains multiple text elements\n",
        "#Since it is not a list I can just access the content of the row in the datafrme\n",
        "data_clean_special =  [['[CLS] ' + ' '+ synonyms_df['synonym'].iloc[index] + ' [SEP]'] for index, inner_list in synonyms_df.iterrows()]\n",
        "data_ontology =  [['[CLS] ' + ' '+ ontology_df['parent'].iloc[index] + ' [SEP]'] for index, inner_list in ontology_df.iterrows()]"
      ],
      "metadata": {
        "id": "V4u_jza9trPm"
      },
      "execution_count": 14,
      "outputs": []
    },
    {
      "cell_type": "code",
      "source": [
        "# Examine the first list entry\n",
        "print(data_clean_special[0])\n",
        "print(data_ontology[0])"
      ],
      "metadata": {
        "colab": {
          "base_uri": "https://localhost:8080/"
        },
        "id": "m7f0oe9OtsY_",
        "outputId": "dac30fb2-e39b-49dd-ec31-93582c9ce4b1"
      },
      "execution_count": 15,
      "outputs": [
        {
          "output_type": "stream",
          "name": "stdout",
          "text": [
            "['[CLS]  QDA Miner Lite system [SEP]']\n",
            "['[CLS]  methodological entity [SEP]']\n"
          ]
        }
      ]
    },
    {
      "cell_type": "code",
      "source": [
        "#Apply BERT-tokenization\n",
        "\n",
        "#Loading the DistilBert tokenizer\n",
        "\n",
        "#dbert_tokenizer = DistilBertTokenizer.from_pretrained('distilbert-base-uncased')\n",
        "scibert_tokenizer = AutoTokenizer.from_pretrained(\"allenai/scibert_scivocab_uncased\")\n",
        "#loading the pre-trained distilbert model\n",
        "#model = DistilBertModel.from_pretrained('distilbert-base-uncased')\n",
        "model = AutoModel.from_pretrained(\"allenai/scibert_scivocab_uncased\")"
      ],
      "metadata": {
        "colab": {
          "base_uri": "https://localhost:8080/",
          "height": 1000,
          "referenced_widgets": [
            "75e8b3429d8340a09bf59cd154c27b13",
            "d48076e8da6c4a42959b553c3f400664",
            "fbd38e34e4994dda84309b18fa74333a",
            "0d85077bc39648aea1501e86bd8e83bd",
            "5d1c795aad47416b9a2e5fc77776cd19",
            "b49ab6d9417b4fc19fa9fed56d140945",
            "2e2fdf8756524ceca7e34977e2584c11",
            "c38e84655b884e0d94dd0b59235fe55f",
            "07685de0c46a454a8829bfd1d49672eb",
            "bb5a56975e764888ae0d0de59dabed48",
            "9e3a6dfa5d204723adecc6c28eb2d550",
            "f102ffd068404947b87dccb9fa35abb8",
            "f6362967754a4300a9c93c31106daeec",
            "a08b9b68ef9d42839da3de3ebc0af212",
            "1299a5756aa44d5ab45314b1c10b9b07",
            "ce834c65158f49d5a5c5d6b58100c004",
            "57284f317e8944a69018cb5729b7c92a",
            "64e610d933a8430e974f327d3a397874",
            "7cd8ae57c0b34ce88d0bfcb0da735d83",
            "acc0fe5e3a8f4403b53d098ce812f4c2",
            "716ce75ef5f144e285b186246bea62bc",
            "e2cca88e62ce425bb191d06f3dbabe78",
            "f8473b5de9f54eac8dc7c16853c2b1f7",
            "96c5e7072e804e8e9cdc09c4c6d05d9a",
            "0063316b0fed4e3b978a46e1dd1e4209",
            "81161228773b4d3b9fdb16212579336e",
            "ccae16f6950244ab9a6b45456d9e3374",
            "ddb537dc3e654e35b77a65502bef324d",
            "72ffb92e7f6c485a91d64e0cf0520cfd",
            "793c95b5752746baa4704520067f66d3",
            "6555a37d7b3e455a958334933542d998",
            "e74c451f1b874911b32bc1ba030f0f2f",
            "6bf51bb15cf34012bbd1491133ebc738"
          ]
        },
        "id": "UnQ2FwnPtwHw",
        "outputId": "ec7dcb3c-7bc0-4534-97a7-3326ed0db099"
      },
      "execution_count": 16,
      "outputs": [
        {
          "output_type": "stream",
          "name": "stderr",
          "text": [
            "Could not locate the tokenizer configuration file, will try to use the model config instead.\n",
            "/usr/local/lib/python3.10/dist-packages/huggingface_hub/file_download.py:1132: FutureWarning: `resume_download` is deprecated and will be removed in version 1.0.0. Downloads always resume when possible. If you want to force a new download, use `force_download=True`.\n",
            "  warnings.warn(\n"
          ]
        },
        {
          "output_type": "display_data",
          "data": {
            "text/plain": [
              "config.json:   0%|          | 0.00/385 [00:00<?, ?B/s]"
            ],
            "application/vnd.jupyter.widget-view+json": {
              "version_major": 2,
              "version_minor": 0,
              "model_id": "75e8b3429d8340a09bf59cd154c27b13"
            }
          },
          "metadata": {}
        },
        {
          "output_type": "stream",
          "name": "stderr",
          "text": [
            "loading configuration file config.json from cache at /root/.cache/huggingface/hub/models--allenai--scibert_scivocab_uncased/snapshots/24f92d32b1bfb0bcaf9ab193ff3ad01e87732fc1/config.json\n",
            "Model config BertConfig {\n",
            "  \"_name_or_path\": \"allenai/scibert_scivocab_uncased\",\n",
            "  \"attention_probs_dropout_prob\": 0.1,\n",
            "  \"classifier_dropout\": null,\n",
            "  \"hidden_act\": \"gelu\",\n",
            "  \"hidden_dropout_prob\": 0.1,\n",
            "  \"hidden_size\": 768,\n",
            "  \"initializer_range\": 0.02,\n",
            "  \"intermediate_size\": 3072,\n",
            "  \"layer_norm_eps\": 1e-12,\n",
            "  \"max_position_embeddings\": 512,\n",
            "  \"model_type\": \"bert\",\n",
            "  \"num_attention_heads\": 12,\n",
            "  \"num_hidden_layers\": 12,\n",
            "  \"pad_token_id\": 0,\n",
            "  \"position_embedding_type\": \"absolute\",\n",
            "  \"transformers_version\": \"4.41.2\",\n",
            "  \"type_vocab_size\": 2,\n",
            "  \"use_cache\": true,\n",
            "  \"vocab_size\": 31090\n",
            "}\n",
            "\n"
          ]
        },
        {
          "output_type": "display_data",
          "data": {
            "text/plain": [
              "vocab.txt:   0%|          | 0.00/228k [00:00<?, ?B/s]"
            ],
            "application/vnd.jupyter.widget-view+json": {
              "version_major": 2,
              "version_minor": 0,
              "model_id": "f102ffd068404947b87dccb9fa35abb8"
            }
          },
          "metadata": {}
        },
        {
          "output_type": "stream",
          "name": "stderr",
          "text": [
            "loading file vocab.txt from cache at /root/.cache/huggingface/hub/models--allenai--scibert_scivocab_uncased/snapshots/24f92d32b1bfb0bcaf9ab193ff3ad01e87732fc1/vocab.txt\n",
            "loading file tokenizer.json from cache at None\n",
            "loading file added_tokens.json from cache at None\n",
            "loading file special_tokens_map.json from cache at None\n",
            "loading file tokenizer_config.json from cache at None\n",
            "loading configuration file config.json from cache at /root/.cache/huggingface/hub/models--allenai--scibert_scivocab_uncased/snapshots/24f92d32b1bfb0bcaf9ab193ff3ad01e87732fc1/config.json\n",
            "Model config BertConfig {\n",
            "  \"_name_or_path\": \"allenai/scibert_scivocab_uncased\",\n",
            "  \"attention_probs_dropout_prob\": 0.1,\n",
            "  \"classifier_dropout\": null,\n",
            "  \"hidden_act\": \"gelu\",\n",
            "  \"hidden_dropout_prob\": 0.1,\n",
            "  \"hidden_size\": 768,\n",
            "  \"initializer_range\": 0.02,\n",
            "  \"intermediate_size\": 3072,\n",
            "  \"layer_norm_eps\": 1e-12,\n",
            "  \"max_position_embeddings\": 512,\n",
            "  \"model_type\": \"bert\",\n",
            "  \"num_attention_heads\": 12,\n",
            "  \"num_hidden_layers\": 12,\n",
            "  \"pad_token_id\": 0,\n",
            "  \"position_embedding_type\": \"absolute\",\n",
            "  \"transformers_version\": \"4.41.2\",\n",
            "  \"type_vocab_size\": 2,\n",
            "  \"use_cache\": true,\n",
            "  \"vocab_size\": 31090\n",
            "}\n",
            "\n",
            "loading configuration file config.json from cache at /root/.cache/huggingface/hub/models--allenai--scibert_scivocab_uncased/snapshots/24f92d32b1bfb0bcaf9ab193ff3ad01e87732fc1/config.json\n",
            "Model config BertConfig {\n",
            "  \"_name_or_path\": \"allenai/scibert_scivocab_uncased\",\n",
            "  \"attention_probs_dropout_prob\": 0.1,\n",
            "  \"classifier_dropout\": null,\n",
            "  \"hidden_act\": \"gelu\",\n",
            "  \"hidden_dropout_prob\": 0.1,\n",
            "  \"hidden_size\": 768,\n",
            "  \"initializer_range\": 0.02,\n",
            "  \"intermediate_size\": 3072,\n",
            "  \"layer_norm_eps\": 1e-12,\n",
            "  \"max_position_embeddings\": 512,\n",
            "  \"model_type\": \"bert\",\n",
            "  \"num_attention_heads\": 12,\n",
            "  \"num_hidden_layers\": 12,\n",
            "  \"pad_token_id\": 0,\n",
            "  \"position_embedding_type\": \"absolute\",\n",
            "  \"transformers_version\": \"4.41.2\",\n",
            "  \"type_vocab_size\": 2,\n",
            "  \"use_cache\": true,\n",
            "  \"vocab_size\": 31090\n",
            "}\n",
            "\n",
            "loading configuration file config.json from cache at /root/.cache/huggingface/hub/models--allenai--scibert_scivocab_uncased/snapshots/24f92d32b1bfb0bcaf9ab193ff3ad01e87732fc1/config.json\n",
            "Model config BertConfig {\n",
            "  \"_name_or_path\": \"allenai/scibert_scivocab_uncased\",\n",
            "  \"attention_probs_dropout_prob\": 0.1,\n",
            "  \"classifier_dropout\": null,\n",
            "  \"hidden_act\": \"gelu\",\n",
            "  \"hidden_dropout_prob\": 0.1,\n",
            "  \"hidden_size\": 768,\n",
            "  \"initializer_range\": 0.02,\n",
            "  \"intermediate_size\": 3072,\n",
            "  \"layer_norm_eps\": 1e-12,\n",
            "  \"max_position_embeddings\": 512,\n",
            "  \"model_type\": \"bert\",\n",
            "  \"num_attention_heads\": 12,\n",
            "  \"num_hidden_layers\": 12,\n",
            "  \"pad_token_id\": 0,\n",
            "  \"position_embedding_type\": \"absolute\",\n",
            "  \"transformers_version\": \"4.41.2\",\n",
            "  \"type_vocab_size\": 2,\n",
            "  \"use_cache\": true,\n",
            "  \"vocab_size\": 31090\n",
            "}\n",
            "\n"
          ]
        },
        {
          "output_type": "display_data",
          "data": {
            "text/plain": [
              "pytorch_model.bin:   0%|          | 0.00/442M [00:00<?, ?B/s]"
            ],
            "application/vnd.jupyter.widget-view+json": {
              "version_major": 2,
              "version_minor": 0,
              "model_id": "f8473b5de9f54eac8dc7c16853c2b1f7"
            }
          },
          "metadata": {}
        },
        {
          "output_type": "stream",
          "name": "stderr",
          "text": [
            "loading weights file pytorch_model.bin from cache at /root/.cache/huggingface/hub/models--allenai--scibert_scivocab_uncased/snapshots/24f92d32b1bfb0bcaf9ab193ff3ad01e87732fc1/pytorch_model.bin\n",
            "Some weights of the model checkpoint at allenai/scibert_scivocab_uncased were not used when initializing BertModel: ['cls.predictions.bias', 'cls.predictions.decoder.bias', 'cls.predictions.decoder.weight', 'cls.predictions.transform.LayerNorm.bias', 'cls.predictions.transform.LayerNorm.weight', 'cls.predictions.transform.dense.bias', 'cls.predictions.transform.dense.weight', 'cls.seq_relationship.bias', 'cls.seq_relationship.weight']\n",
            "- This IS expected if you are initializing BertModel from the checkpoint of a model trained on another task or with another architecture (e.g. initializing a BertForSequenceClassification model from a BertForPreTraining model).\n",
            "- This IS NOT expected if you are initializing BertModel from the checkpoint of a model that you expect to be exactly identical (initializing a BertForSequenceClassification model from a BertForSequenceClassification model).\n",
            "All the weights of BertModel were initialized from the model checkpoint at allenai/scibert_scivocab_uncased.\n",
            "If your task is similar to the task the model of the checkpoint was trained on, you can already use BertModel for predictions without further training.\n"
          ]
        }
      ]
    },
    {
      "cell_type": "code",
      "source": [
        "# Tokenize each text in data_clean_special\n",
        "tokenized_synonym = [scibert_tokenizer.tokenize(text[0]) for text in data_clean_special]\n",
        "tokenized_ontology = [scibert_tokenizer.tokenize(text[0]) for text in data_ontology]\n",
        "\n",
        "# Examine the first list entry\n",
        "print(tokenized_synonym[0])\n",
        "print(tokenized_ontology[0])"
      ],
      "metadata": {
        "colab": {
          "base_uri": "https://localhost:8080/"
        },
        "id": "I9dcH8KWtzTn",
        "outputId": "4325838c-1a03-4a83-b901-62ae62a13ed3"
      },
      "execution_count": 17,
      "outputs": [
        {
          "output_type": "stream",
          "name": "stdout",
          "text": [
            "['[CLS]', 'qd', '##a', 'miner', 'lit', '##e', 'system', '[SEP]']\n",
            "['[CLS]', 'methodological', 'entity', '[SEP]']\n"
          ]
        }
      ]
    },
    {
      "cell_type": "code",
      "source": [
        "# Calculate the lengths of tokenized texts\n",
        "text_lengths_synonym = [len(tokens) for tokens in tokenized_synonym]\n",
        "text_lengths_ontology = [len(tokens) for tokens in tokenized_ontology]\n",
        "#determine maximum overall length\n",
        "text_lengths = text_lengths_ontology + text_lengths_synonym\n",
        "\n",
        "\n",
        "# Determine the 85th percentile for the maximum sequence length\n",
        "max_seq_length_synonym = int(np.percentile(text_lengths_synonym, 85))\n",
        "print(\"Maximum sequence length synonyms:\", max_seq_length_synonym)\n",
        "\n",
        "# Determine the 85th percentile for the maximum sequence length\n",
        "max_seq_length_ontology = int(np.percentile(text_lengths_ontology, 85))\n",
        "print(\"Maximum sequence length Ontology:\", max_seq_length_ontology)\n",
        "\n",
        "# Determine the 85th percentile for the maximum sequence length\n",
        "max_seq_length = int(np.percentile(text_lengths, 85))\n",
        "print(\"Maximum sequence length overall:\", max_seq_length)"
      ],
      "metadata": {
        "colab": {
          "base_uri": "https://localhost:8080/"
        },
        "id": "dChs3oZXt373",
        "outputId": "72de097f-1788-413a-f4fa-7a5d012bcdbd"
      },
      "execution_count": 18,
      "outputs": [
        {
          "output_type": "stream",
          "name": "stdout",
          "text": [
            "Maximum sequence length synonyms: 8\n",
            "Maximum sequence length Ontology: 6\n",
            "Maximum sequence length overall: 8\n"
          ]
        }
      ]
    },
    {
      "cell_type": "code",
      "source": [
        "k_length_o = max_seq_length  # Replace max_seq_length with the determined maximum sequence length\n"
      ],
      "metadata": {
        "id": "Xdoobjy2uBmj"
      },
      "execution_count": 19,
      "outputs": []
    },
    {
      "cell_type": "code",
      "source": [
        "def get_embeddings(terms):\n",
        "    \"\"\"\n",
        "    Generates embeddings for a list of terms using a DistilBERT model.\n",
        "\n",
        "    Args:\n",
        "        terms: A list of strings or lists of strings (representing phrases).\n",
        "        model: The DistilBERT model to use for generating embeddings.\n",
        "        dbert_tokenizer: The DistilBERT tokenizer associated with the model.\n",
        "        k_length_o: The maximum length for tokenization (used for padding/truncation).\n",
        "\n",
        "    Returns:\n",
        "        A dictionary mapping each term to its corresponding embedding vector.\n",
        "    \"\"\"\n",
        "    embeddings = {}\n",
        "    for term in terms:\n",
        "        if isinstance(term, list):\n",
        "            term = \" \".join(term)\n",
        "\n",
        "        # Tokenize & Convert to PyTorch tensors\n",
        "        inputs = scibert_tokenizer(  # <--- Moved inside the loop\n",
        "            term,\n",
        "            add_special_tokens=True,\n",
        "            padding='max_length',\n",
        "            truncation=True,\n",
        "            max_length=k_length_o,\n",
        "            return_tensors='pt'\n",
        "        )\n",
        "\n",
        "        # Get the embedding (ensure model is on the correct device)\n",
        "        with torch.no_grad():\n",
        "            inputs = {key: val.to(model.device) for key, val in inputs.items()}  # Move to GPU if available\n",
        "            outputs = model(**inputs)\n",
        "\n",
        "        # Extract [CLS] token embedding\n",
        "        embedding = outputs.last_hidden_state[:, 0, :].cpu().numpy()  # Move to CPU\n",
        "        embeddings[term] = embedding[0]  # Remove batch dimension\n",
        "\n",
        "    return embeddings"
      ],
      "metadata": {
        "id": "n-xnCHNFuEvT"
      },
      "execution_count": 20,
      "outputs": []
    },
    {
      "cell_type": "code",
      "source": [
        "device = torch.device(\"cuda\" if torch.cuda.is_available() else \"cpu\")\n",
        "\n",
        "# Move the model to the GPU\n",
        "model.to(device)"
      ],
      "metadata": {
        "colab": {
          "base_uri": "https://localhost:8080/"
        },
        "id": "bga0li3BuHfx",
        "outputId": "3484566b-2c43-497d-b45b-1fab16a68800"
      },
      "execution_count": 21,
      "outputs": [
        {
          "output_type": "execute_result",
          "data": {
            "text/plain": [
              "BertModel(\n",
              "  (embeddings): BertEmbeddings(\n",
              "    (word_embeddings): Embedding(31090, 768, padding_idx=0)\n",
              "    (position_embeddings): Embedding(512, 768)\n",
              "    (token_type_embeddings): Embedding(2, 768)\n",
              "    (LayerNorm): LayerNorm((768,), eps=1e-12, elementwise_affine=True)\n",
              "    (dropout): Dropout(p=0.1, inplace=False)\n",
              "  )\n",
              "  (encoder): BertEncoder(\n",
              "    (layer): ModuleList(\n",
              "      (0-11): 12 x BertLayer(\n",
              "        (attention): BertAttention(\n",
              "          (self): BertSdpaSelfAttention(\n",
              "            (query): Linear(in_features=768, out_features=768, bias=True)\n",
              "            (key): Linear(in_features=768, out_features=768, bias=True)\n",
              "            (value): Linear(in_features=768, out_features=768, bias=True)\n",
              "            (dropout): Dropout(p=0.1, inplace=False)\n",
              "          )\n",
              "          (output): BertSelfOutput(\n",
              "            (dense): Linear(in_features=768, out_features=768, bias=True)\n",
              "            (LayerNorm): LayerNorm((768,), eps=1e-12, elementwise_affine=True)\n",
              "            (dropout): Dropout(p=0.1, inplace=False)\n",
              "          )\n",
              "        )\n",
              "        (intermediate): BertIntermediate(\n",
              "          (dense): Linear(in_features=768, out_features=3072, bias=True)\n",
              "          (intermediate_act_fn): GELUActivation()\n",
              "        )\n",
              "        (output): BertOutput(\n",
              "          (dense): Linear(in_features=3072, out_features=768, bias=True)\n",
              "          (LayerNorm): LayerNorm((768,), eps=1e-12, elementwise_affine=True)\n",
              "          (dropout): Dropout(p=0.1, inplace=False)\n",
              "        )\n",
              "      )\n",
              "    )\n",
              "  )\n",
              "  (pooler): BertPooler(\n",
              "    (dense): Linear(in_features=768, out_features=768, bias=True)\n",
              "    (activation): Tanh()\n",
              "  )\n",
              ")"
            ]
          },
          "metadata": {},
          "execution_count": 21
        }
      ]
    },
    {
      "cell_type": "code",
      "source": [
        "embeddings_synonyms = get_embeddings(synonyms_df['synonym'])\n",
        "embeddings_ontology = get_embeddings(ontology_df['parent'])"
      ],
      "metadata": {
        "id": "JQYQ8D6quKKt"
      },
      "execution_count": 22,
      "outputs": []
    },
    {
      "cell_type": "markdown",
      "source": [
        "# Comparing New term"
      ],
      "metadata": {
        "id": "c_RWk95XvYXh"
      }
    },
    {
      "cell_type": "code",
      "source": [
        "def is_synonym(new_term):\n",
        "    \"\"\"\n",
        "    Compare a new_term with the list of synonyms and ontology terms stored using cosine similarity.\n",
        "\n",
        "    Args:\n",
        "        new term: a single term to be compared\n",
        "\n",
        "    Returns:\n",
        "        A string that tells if the term is a synonym to x word and the score or if there was not a synonym in the list\n",
        "    \"\"\"\n",
        "\n",
        "    new_term_embds = get_embeddings(new_term)\n",
        "    similarity_scores = {}\n",
        "    overall_embeddings = embeddings_synonyms | embeddings_ontology\n",
        "    for term, embedding in overall_embeddings.items():\n",
        "        similarity = cosine_similarity(new_term_embds[new_term[0]].reshape(1, -1), embedding.reshape(1, -1))[0][0]\n",
        "        similarity_scores[term] = similarity\n",
        "    sorted_similarity_scores = dict(sorted(similarity_scores.items(), key=lambda item: item[1], reverse=True))\n",
        "    if sorted_similarity_scores and list(sorted_similarity_scores.values())[0] > 0.7:\n",
        "        top_synonym = list(sorted_similarity_scores.keys())[0]\n",
        "        return f\"is synonym to {top_synonym} with a similarity score of {list(sorted_similarity_scores.values())[0]}\"\n",
        "    else:\n",
        "        return \"No close synonyms found in the list.\""
      ],
      "metadata": {
        "id": "J5-yg4EhvYtr"
      },
      "execution_count": 23,
      "outputs": []
    },
    {
      "cell_type": "code",
      "source": [
        "similarity_scores = {}\n",
        "embeddings = {}\n",
        "\n",
        "# Tokenize & Convert to PyTorch tensors\n",
        "inputs = scibert_tokenizer(  # <--- Moved inside the loop\n",
        "            'apple',\n",
        "            add_special_tokens=True,\n",
        "            padding='max_length',\n",
        "            truncation=True,\n",
        "            max_length=k_length_o,\n",
        "            return_tensors='pt'\n",
        "        )\n",
        "\n",
        "        # Get the embedding (ensure model is on the correct device)\n",
        "with torch.no_grad():\n",
        "            inputs = {key: val.to(model.device) for key, val in inputs.items()}  # Move to GPU if available\n",
        "            outputs = model(**inputs)\n",
        "# Extract [CLS] token embedding\n",
        "embedding = outputs.last_hidden_state[:, 0, :].cpu().numpy()  # Move to CPU\n",
        "embeddings['apple'] = embedding[0]  # Remove batch dimension"
      ],
      "metadata": {
        "id": "mdCZrKRrvfIk"
      },
      "execution_count": 24,
      "outputs": []
    },
    {
      "cell_type": "code",
      "source": [
        "similarity_scores = {}\n",
        "\n",
        "# Tokenize & Convert to PyTorch tensors\n",
        "inputs = scibert_tokenizer(  # <--- Moved inside the loop\n",
        "            'PLS',\n",
        "            add_special_tokens=True,\n",
        "            padding='max_length',\n",
        "            truncation=True,\n",
        "            max_length=k_length_o,\n",
        "            return_tensors='pt'\n",
        "        )\n",
        "\n",
        "        # Get the embedding (ensure model is on the correct device)\n",
        "with torch.no_grad():\n",
        "            inputs = {key: val.to(model.device) for key, val in inputs.items()}  # Move to GPU if available\n",
        "            outputs = model(**inputs)\n",
        "# Extract [CLS] token embedding\n",
        "embedding = outputs.last_hidden_state[:, 0, :].cpu().numpy()  # Move to CPU\n",
        "embeddings['PLS'] = embedding[0]  # Remove batch dimension"
      ],
      "metadata": {
        "id": "wOHWrifZvkds"
      },
      "execution_count": 25,
      "outputs": []
    },
    {
      "cell_type": "code",
      "source": [
        "similarity = cosine_similarity(embeddings['PLS'], embeddings['apple'])\n",
        "print(similarity)"
      ],
      "metadata": {
        "colab": {
          "base_uri": "https://localhost:8080/",
          "height": 1000
        },
        "collapsed": true,
        "id": "7HbODk6PvnP7",
        "outputId": "bba62736-2e4b-4a97-81c9-122e53406f4a"
      },
      "execution_count": 26,
      "outputs": [
        {
          "output_type": "error",
          "ename": "ValueError",
          "evalue": "Expected 2D array, got 1D array instead:\narray=[-7.01133236e-02  1.52614927e+00  2.53698472e-02 -3.78919870e-01\n -4.42873836e-02 -6.43811598e-02  3.46115798e-01 -5.34968257e-01\n  4.21226680e-01 -6.84282959e-01  8.35985363e-01  2.56860942e-01\n  6.02248218e-03 -8.32898915e-01 -4.27876890e-01  3.53113621e-01\n -1.05500805e+00  2.16096975e-02  1.44859397e+00 -1.46257222e-01\n -1.44513607e-01  1.17746711e+00  1.54212434e-02 -1.27274990e-01\n -3.63162130e-01  4.02150273e-01 -8.62334788e-01  3.27129662e-01\n -1.43920958e-01  1.08492672e+00 -9.39331353e-02 -7.24775195e-01\n  1.11520186e-01 -4.69090730e-01  1.35809332e-01 -8.46475303e-01\n -2.52943128e-01  4.35957052e-02  1.34669095e-01 -7.46790588e-01\n  7.58891702e-01 -1.08231997e+00  1.29284370e+00 -7.26692975e-02\n -9.75235328e-02 -4.32223082e-01 -4.82730895e-01  1.79711446e-01\n  3.41749936e-01 -3.15545470e-01 -1.75879255e-01  6.54595867e-02\n -3.98258746e-01  1.78731239e+00  1.27062511e+00 -3.09721883e-02\n -6.42239675e-02 -1.21336877e+00 -1.83300246e-02 -8.56509745e-01\n -1.44902289e-01 -1.15171328e-01 -6.21571481e-01  2.44312301e-01\n  8.57057989e-01  1.56959683e-01  4.87753212e-01  8.97957504e-01\n  1.68876970e+00  1.57542861e+00  3.69928591e-02  1.66012138e-01\n  3.22041184e-01  3.27369481e-01  6.99805737e-01 -1.52446300e-01\n  3.43545496e-01  3.48739356e-01 -8.34362626e-01  6.14017487e-01\n -2.32638314e-01 -4.98809844e-01  6.84236050e-01 -2.92695284e-01\n -5.16420662e-01  2.13789448e-01 -1.21291733e+00 -5.31197429e-01\n  3.25511724e-01  3.08826983e-01  7.61385262e-01  8.57765615e-01\n  3.99013281e-01 -2.67909318e-01 -6.21027909e-02  3.26170385e-01\n -3.53178620e-01 -5.02518892e-01 -7.37452567e-01  1.32292557e+00\n -4.84821469e-01  7.59879351e-01  6.09284997e-01  1.19775534e-01\n  6.75193369e-01  5.86605310e-01  1.92456752e-01 -6.44271553e-01\n -1.21665728e+00  2.92792201e-01 -2.60424107e-01 -6.70528173e-01\n -7.06818521e-01 -1.43381572e+00 -3.19452345e-01 -3.94169688e-02\n -1.15256155e+00 -1.70272529e+00 -5.62026143e-01  6.38714254e-01\n  3.39363247e-01  2.28446752e-01 -1.54793009e-01 -2.40894794e-01\n  5.63944221e-01  8.60641718e-01  6.84176981e-01 -4.88860548e-01\n -6.72834218e-01 -3.39128137e-01 -3.87089461e-01  2.58493543e-01\n  4.17943567e-01 -5.61689854e-01  6.74157977e-01  4.94159460e-01\n -1.57385111e+00 -6.71070337e-01 -1.15973878e+00 -5.24203181e-01\n  3.00391793e-01  5.38276672e-01  6.51341677e-01  7.94475317e-01\n  2.56142557e-01  2.70763457e-01 -8.42937827e-01 -1.26643419e+00\n  9.09987986e-02 -3.44331115e-01 -3.39212090e-01  9.56946433e-01\n  9.97086763e-01  3.98976982e-01 -2.30971530e-01 -6.37523681e-02\n -1.52610853e-01 -1.25662220e+00 -3.20479721e-01  4.31060642e-01\n -9.77863312e-01  1.98846832e-01  4.46518930e-03  4.96979713e-01\n -1.71536371e-01  4.97156270e-02 -1.31516829e-01  1.45379230e-01\n  9.35993865e-02  2.50309646e-01  2.55762297e-03 -6.30376816e-01\n -3.31418328e-02  1.10973454e+00  1.30029607e+00 -1.14634776e+00\n -6.71999156e-01  8.35823774e-01  5.84501445e-01 -6.95629641e-02\n -7.96180487e-01  1.75362557e-01  2.41302252e-01  6.76214457e-01\n  3.04808378e-01 -1.05383642e-01  5.25116384e-01  3.54568511e-01\n -6.31231844e-01 -6.92374781e-02  7.67750382e-01 -2.28418723e-01\n  8.93165171e-01  1.13648564e-01 -1.82616818e+00  5.01279999e-03\n -1.22827184e+00 -1.00197077e-01 -1.30301699e-01 -2.37651672e-02\n -1.08280325e+00 -1.15521841e-01  1.98915647e-03  1.61343776e-02\n -6.12765729e-01 -4.24053073e-01 -7.25190818e-01 -1.17513128e-01\n  6.67748749e-01  2.84320842e-02 -1.03375882e-01 -8.14701140e-01\n -5.65394340e-03 -3.59964401e-01 -1.19781661e+00  5.70025146e-01\n  5.80281615e-01 -2.43696105e-02 -2.48652980e-01  1.26972618e-02\n -1.57228976e-01 -1.10664964e+00  4.32683080e-01 -1.09336838e-01\n  8.78861248e-01  7.28674769e-01  3.35905738e-02  1.39796078e-01\n  8.27336848e-01 -5.08641899e-01  7.67597377e-01  4.03879374e-01\n  2.25639403e-01 -4.90289368e-02  6.99083090e-01  1.92507699e-01\n -7.66444057e-02 -1.50872111e-01 -9.10683751e-01  6.99548498e-02\n  3.36791575e-02  6.78812444e-01  7.62054697e-02 -5.18204384e-02\n  1.90449767e-02 -1.06091266e-02 -5.65525413e-01  8.51909697e-01\n  4.15996671e-01  4.37566221e-01  2.31402740e-01 -3.47205848e-01\n -7.80140579e-01  2.43432269e-01  1.27579391e-01 -5.91263115e-01\n  3.96390676e-01  8.78545344e-01  7.22879693e-02 -5.18824875e-01\n  2.14562401e-01 -1.69239151e+00  1.01574600e+00  5.57514988e-02\n  6.01212621e-01  1.57615960e-01  7.94860423e-02 -1.85974151e-01\n -5.29393405e-02 -2.47123003e-01 -2.26511970e-01 -5.22465289e-01\n -5.59341252e-01 -1.48423648e+00 -9.89667177e-02  9.17086899e-01\n -5.33095241e-01 -3.15519065e-01 -2.30014250e-01 -8.50516796e-01\n  2.36776531e-01  2.87635386e-01 -9.81335714e-03  7.74132192e-01\n -2.88819522e-01 -7.29184628e-01  2.60628849e-01 -5.40800571e-01\n -5.33728898e-01 -6.15104556e-01  1.26978290e+00 -7.60094047e-01\n  6.86383605e-01  5.80354393e-01 -1.91769972e-01 -9.31431592e-01\n -7.90512800e-01  7.19536722e-01  9.71900940e-01 -1.44172251e-01\n  4.68491793e-01  2.85922259e-01 -5.75275958e-01  4.33244526e-01\n  5.98444998e-01 -8.00247073e-01  2.95676924e-02 -6.16821110e-01\n  4.57938164e-01  1.53159752e-01  5.28770030e-01 -8.26251209e-01\n  1.08411193e+00  2.99344957e-01  3.29483062e-01 -1.48374885e-01\n -1.42587578e+00 -9.47931230e-01 -5.08201718e-01  3.19294304e-01\n -2.18448281e-01  9.83988881e-01 -4.13592279e-01 -9.96491849e-01\n  4.01236922e-01 -1.98490515e-01 -2.09862798e-01 -1.04480755e+00\n  1.30046681e-01 -4.11861598e-01  4.08591598e-01  2.83318758e-01\n  1.01365335e-01  4.45792913e-01  7.35997736e-01 -8.35994184e-02\n  4.99142319e-01  1.76549315e-01 -1.11963317e-01  1.29387423e-01\n -5.08485973e-01 -1.00650288e-01  2.72988230e-01 -3.50277215e-01\n  1.68490624e+00 -6.54515564e-01 -6.05911136e-01 -1.39605582e-01\n -1.89113051e-01  5.48196912e-01 -9.16358888e-01 -5.72805524e-01\n  5.00745654e-01 -1.29590824e-01 -1.20520532e+00  3.93463731e-01\n -3.66562992e-01  1.90906495e-01  2.86951363e-01  1.30370891e+00\n -6.34602487e-01 -4.36078787e-01 -1.08896501e-01  9.84944999e-02\n  1.51088730e-01 -8.93791556e-01  2.98707169e-02 -6.40257969e-02\n -7.32633054e-01 -5.47369123e-01 -7.87024677e-01  4.54850420e-02\n  6.58642454e-03  5.11295982e-02 -7.88267791e-01 -9.62031633e-02\n -4.97369230e-01 -5.25558293e-01 -1.30325437e+00  1.07328629e+00\n  1.96350768e-01  3.48969162e-01 -8.44381750e-01  3.77770483e-01\n  1.95019811e-01  3.97191048e-01  9.48859811e-01  1.65401027e-01\n  6.74620390e-01  3.11955035e-01  1.48677662e-01 -2.29382843e-01\n -2.81117618e-01 -2.74790406e-01  7.84504935e-02 -9.81715798e-01\n  1.89386740e-01 -5.28658591e-02  9.21984017e-01  1.17974496e+00\n  1.26344419e+00 -2.45209057e-02 -7.82693088e-01 -2.10121676e-01\n  2.16388568e-01 -1.08630255e-01 -1.04124822e-01  4.91221309e-01\n  2.89110448e-02  4.59652185e-01  1.02477491e+00 -3.76968652e-01\n -7.24169016e-01 -4.70070422e-01  2.29710862e-01 -1.95449620e-01\n  4.69878204e-02  3.78175765e-01  7.63921857e-01  6.34592846e-02\n  8.18185434e-02 -1.05885558e-01  1.51631260e+01  7.70584345e-02\n -5.99658012e-01  4.56157416e-01  1.78676784e-01 -2.16364369e-01\n -1.01159918e+00 -3.50825191e-01 -6.70209765e-01  2.88058460e-01\n  1.69414103e-01  4.61500466e-01  1.70226976e-01  4.90367025e-01\n  9.18843150e-01  5.40694535e-01 -5.66348970e-01  3.55884492e-01\n -1.01314530e-01 -7.23277926e-01  7.04111993e-01  3.64312261e-01\n -6.88804567e-01  7.26547062e-01 -3.06799680e-01  3.10076028e-01\n  9.99298468e-02  5.06693423e-01  5.27365148e-01 -1.25687921e+00\n  9.57899034e-01  8.57564092e-01  4.31632623e-02 -2.79395748e-02\n -3.03037405e-01 -3.35469037e-01  8.03597867e-01  1.14934910e-02\n -6.68225110e-01 -8.54512930e-01  4.19778973e-01  3.43818337e-01\n  2.90521443e-01  7.36842811e-01 -4.02321339e-01 -1.61934402e-02\n  9.03346837e-01  1.20423353e+00 -2.63868093e-01  4.04412389e-01\n -8.24188948e-01  1.14755177e+00  1.09898113e-01  5.99313140e-01\n -2.93600261e-02  5.22353470e-01 -5.65448552e-02  2.26297021e-01\n  2.40072504e-01  4.55241054e-01 -1.52761871e-02 -6.43561065e-01\n -7.25091696e-02  5.41708589e-01 -2.68177211e-01  7.18249977e-01\n  2.48411790e-01 -4.41611469e-01  8.17159712e-01 -2.49725476e-01\n -6.34449482e-01  1.31702453e-01 -4.79527682e-01 -5.43449998e-01\n -2.78225780e-01 -3.82542938e-01 -1.36696422e+00 -1.39689654e-01\n -8.47035229e-01  1.60047442e-01 -2.39236191e-01  7.66736493e-02\n -3.92665416e-01 -9.47872281e-01 -8.58765423e-01 -1.51934874e+00\n  1.43504506e-02  7.27093429e-04 -4.61269379e-01  9.55589712e-02\n -1.20100486e+00 -1.08114600e+00 -2.97723025e-01  6.79149270e-01\n -6.44271970e-02 -1.18028772e+00 -5.02762258e-01 -2.87661433e-01\n -2.63554174e-02  1.24971911e-01  3.12949419e-01  7.91686028e-02\n  8.25130820e-01  6.27043545e-01  1.86403543e-01  4.80213761e-01\n  3.67045701e-02  6.50176466e-01  1.76211283e-01 -1.62451029e-01\n  5.86799681e-01 -2.10105240e-01 -3.24745178e-01 -7.91200817e-01\n  1.99635684e-01  1.92001954e-01  3.65012020e-01  4.18113410e-01\n -2.76805013e-01  8.94911140e-02  6.14166498e-01  9.40187052e-02\n  6.27887249e-01 -5.38912594e-01  6.63412455e-03 -5.99030435e-01\n -3.17340600e-03 -1.18981183e+00 -1.09292269e-01 -6.67124465e-02\n  1.49069831e-01  3.69285792e-02 -4.79698718e-01  4.21764433e-01\n  4.82498929e-02  2.37353787e-01  1.49216875e-01 -2.60705143e-01\n -5.47415242e-02 -5.35067976e-01 -4.17186826e-01  1.12401128e+00\n -2.38432318e-01 -4.59409446e-01  5.95012784e-01  1.41550288e-01\n  1.81199223e-01  6.37655914e-01  1.21277928e+00  1.17582643e+00\n -5.72104871e-01 -9.21131134e-01  2.40732834e-01 -2.80159079e-02\n  5.25716662e-01  3.34555060e-01  8.71514797e-01  9.31018829e-01\n -2.44808763e-01 -8.60514492e-02  6.75496995e-01  5.67084730e-01\n -5.25349259e-01 -5.06476164e-01  2.48968676e-01 -1.27124459e-01\n -2.36950740e-01  4.52373743e-01  1.16204269e-01 -8.35652769e-01\n -6.70188189e-01  1.29152521e-01 -1.01925266e+00 -3.08050096e-01\n -5.43975793e-02 -3.29739809e-01 -3.53799134e-01  5.19590855e-01\n -5.74300349e-01  5.11522889e-01 -9.51404214e-01  9.83999312e-01\n  1.63763519e-02 -1.26226157e-01  4.34628695e-01 -9.69057441e-01\n -8.88108611e-02 -2.19307579e-02 -5.91466367e-01 -3.38392943e-01\n  1.00414403e-01 -6.82473034e-02 -1.03456771e+00 -3.11479360e-01\n -2.48501580e-02 -3.47028553e-01 -6.26630366e-01 -9.27361250e-01\n -1.61872238e-01 -6.06329799e-01  3.62874150e-01 -1.25662184e+00\n  3.49546641e-01  1.49045870e-01 -6.37384415e-01 -7.80478239e-01\n -3.84831458e-01  8.38447273e-01 -4.22648102e-01  3.49124640e-01\n  3.73611778e-01  1.18016243e+00  4.54366088e-01 -7.88190544e-01\n -7.76313245e-02  2.32692853e-01 -1.12025762e+00 -3.83360386e-01\n -5.81232548e-01 -1.41973114e+00  7.49075294e-01 -4.44759905e-01\n -4.69554216e-01 -1.63749784e-01  6.44532859e-01  4.05783504e-01\n -7.24462271e-01  8.17821175e-02  8.62576008e-01 -1.66408196e-01\n -6.15383387e-01 -5.16396940e-01  1.62280232e-01  7.84135580e-01\n -3.41113538e-01  6.41120434e-01 -3.59718591e-01  1.24845572e-01\n -4.47079927e-01  8.15531254e-01  9.34967697e-01  6.68564856e-01\n  1.62772429e+00  7.41435349e-01  5.01749277e-01 -5.68530440e-01\n -3.52732122e-01 -5.53845823e-01 -1.30054772e+00 -6.28621519e-01\n -4.82885897e-01 -9.90727097e-02 -2.94133858e-03  9.95372474e-01\n -3.81887168e-01 -8.76630723e-01 -8.56781527e-02 -3.54217708e-01\n  4.38747883e-01 -1.93565845e-01  5.27270496e-01  7.73264349e-01\n -4.39279407e-01 -2.00954407e-01  3.77126575e-01  7.87447155e-01\n  1.80451721e-01  7.50511587e-01 -4.79288429e-01 -2.61721641e-01\n -7.35039592e-01  4.60480213e-01  1.23333681e+00 -4.89943981e-01\n  9.01578665e-01 -6.54995382e-01  1.04804301e+00 -3.56690913e-01\n  6.23085916e-01 -3.08154523e-01 -5.27501523e-01  2.68502742e-01\n -1.20703566e+00 -2.46783614e-01  5.75680971e-01 -7.27610528e-01\n -1.14668861e-01 -5.82499653e-02 -5.96513391e-01  8.90393704e-02\n  1.16101265e+00  6.73021019e-01  7.46755719e-01 -1.64562032e-01\n -2.06672400e-01 -1.72558665e-01  1.21644139e-01  6.72553003e-01\n  4.77123111e-01  4.69021127e-02  6.29916608e-01  8.19974095e-02\n -4.08003837e-01  5.14499605e-01 -1.26384035e-01  4.85940337e-01\n  9.21069682e-02 -1.05867684e+00  2.72022188e-01  1.39398351e-01\n  6.78601503e-01  1.73984855e-01 -1.13325071e+00  2.87853569e-01\n -2.90302366e-01  9.65081871e-01 -1.29758433e-01 -8.22724760e-01\n  5.61624587e-01  3.27590257e-01 -2.55160511e-01 -4.06666666e-01\n -5.71445048e-01  7.62032866e-01  3.87621671e-01 -4.91421908e-01\n -3.74320120e-01 -7.76803792e-01 -1.20046365e+00 -7.55742311e-01\n  6.05208278e-01 -1.19319856e+00 -4.56353188e-01  1.12347782e+00\n  4.61356699e-01 -6.35446250e-01  7.09818363e-01  6.25331938e-01\n  7.31664971e-02 -6.56954288e-01 -1.52221099e-01 -2.46034324e-01\n -2.29819834e-01 -5.97161613e-02 -2.69213587e-01 -2.88437665e-01].\nReshape your data either using array.reshape(-1, 1) if your data has a single feature or array.reshape(1, -1) if it contains a single sample.",
          "traceback": [
            "\u001b[0;31m---------------------------------------------------------------------------\u001b[0m",
            "\u001b[0;31mValueError\u001b[0m                                Traceback (most recent call last)",
            "\u001b[0;32m<ipython-input-26-75cab2439362>\u001b[0m in \u001b[0;36m<cell line: 1>\u001b[0;34m()\u001b[0m\n\u001b[0;32m----> 1\u001b[0;31m \u001b[0msimilarity\u001b[0m \u001b[0;34m=\u001b[0m \u001b[0mcosine_similarity\u001b[0m\u001b[0;34m(\u001b[0m\u001b[0membeddings\u001b[0m\u001b[0;34m[\u001b[0m\u001b[0;34m'PLS'\u001b[0m\u001b[0;34m]\u001b[0m\u001b[0;34m,\u001b[0m \u001b[0membeddings\u001b[0m\u001b[0;34m[\u001b[0m\u001b[0;34m'apple'\u001b[0m\u001b[0;34m]\u001b[0m\u001b[0;34m)\u001b[0m\u001b[0;34m\u001b[0m\u001b[0;34m\u001b[0m\u001b[0m\n\u001b[0m\u001b[1;32m      2\u001b[0m \u001b[0mprint\u001b[0m\u001b[0;34m(\u001b[0m\u001b[0msimilarity\u001b[0m\u001b[0;34m)\u001b[0m\u001b[0;34m\u001b[0m\u001b[0;34m\u001b[0m\u001b[0m\n",
            "\u001b[0;32m/usr/local/lib/python3.10/dist-packages/sklearn/metrics/pairwise.py\u001b[0m in \u001b[0;36mcosine_similarity\u001b[0;34m(X, Y, dense_output)\u001b[0m\n\u001b[1;32m   1391\u001b[0m     \u001b[0;31m# to avoid recursive import\u001b[0m\u001b[0;34m\u001b[0m\u001b[0;34m\u001b[0m\u001b[0m\n\u001b[1;32m   1392\u001b[0m \u001b[0;34m\u001b[0m\u001b[0m\n\u001b[0;32m-> 1393\u001b[0;31m     \u001b[0mX\u001b[0m\u001b[0;34m,\u001b[0m \u001b[0mY\u001b[0m \u001b[0;34m=\u001b[0m \u001b[0mcheck_pairwise_arrays\u001b[0m\u001b[0;34m(\u001b[0m\u001b[0mX\u001b[0m\u001b[0;34m,\u001b[0m \u001b[0mY\u001b[0m\u001b[0;34m)\u001b[0m\u001b[0;34m\u001b[0m\u001b[0;34m\u001b[0m\u001b[0m\n\u001b[0m\u001b[1;32m   1394\u001b[0m \u001b[0;34m\u001b[0m\u001b[0m\n\u001b[1;32m   1395\u001b[0m     \u001b[0mX_normalized\u001b[0m \u001b[0;34m=\u001b[0m \u001b[0mnormalize\u001b[0m\u001b[0;34m(\u001b[0m\u001b[0mX\u001b[0m\u001b[0;34m,\u001b[0m \u001b[0mcopy\u001b[0m\u001b[0;34m=\u001b[0m\u001b[0;32mTrue\u001b[0m\u001b[0;34m)\u001b[0m\u001b[0;34m\u001b[0m\u001b[0;34m\u001b[0m\u001b[0m\n",
            "\u001b[0;32m/usr/local/lib/python3.10/dist-packages/sklearn/metrics/pairwise.py\u001b[0m in \u001b[0;36mcheck_pairwise_arrays\u001b[0;34m(X, Y, precomputed, dtype, accept_sparse, force_all_finite, copy)\u001b[0m\n\u001b[1;32m    153\u001b[0m         )\n\u001b[1;32m    154\u001b[0m     \u001b[0;32melse\u001b[0m\u001b[0;34m:\u001b[0m\u001b[0;34m\u001b[0m\u001b[0;34m\u001b[0m\u001b[0m\n\u001b[0;32m--> 155\u001b[0;31m         X = check_array(\n\u001b[0m\u001b[1;32m    156\u001b[0m             \u001b[0mX\u001b[0m\u001b[0;34m,\u001b[0m\u001b[0;34m\u001b[0m\u001b[0;34m\u001b[0m\u001b[0m\n\u001b[1;32m    157\u001b[0m             \u001b[0maccept_sparse\u001b[0m\u001b[0;34m=\u001b[0m\u001b[0maccept_sparse\u001b[0m\u001b[0;34m,\u001b[0m\u001b[0;34m\u001b[0m\u001b[0;34m\u001b[0m\u001b[0m\n",
            "\u001b[0;32m/usr/local/lib/python3.10/dist-packages/sklearn/utils/validation.py\u001b[0m in \u001b[0;36mcheck_array\u001b[0;34m(array, accept_sparse, accept_large_sparse, dtype, order, copy, force_all_finite, ensure_2d, allow_nd, ensure_min_samples, ensure_min_features, estimator, input_name)\u001b[0m\n\u001b[1;32m    900\u001b[0m             \u001b[0;31m# If input is 1D raise error\u001b[0m\u001b[0;34m\u001b[0m\u001b[0;34m\u001b[0m\u001b[0m\n\u001b[1;32m    901\u001b[0m             \u001b[0;32mif\u001b[0m \u001b[0marray\u001b[0m\u001b[0;34m.\u001b[0m\u001b[0mndim\u001b[0m \u001b[0;34m==\u001b[0m \u001b[0;36m1\u001b[0m\u001b[0;34m:\u001b[0m\u001b[0;34m\u001b[0m\u001b[0;34m\u001b[0m\u001b[0m\n\u001b[0;32m--> 902\u001b[0;31m                 raise ValueError(\n\u001b[0m\u001b[1;32m    903\u001b[0m                     \u001b[0;34m\"Expected 2D array, got 1D array instead:\\narray={}.\\n\"\u001b[0m\u001b[0;34m\u001b[0m\u001b[0;34m\u001b[0m\u001b[0m\n\u001b[1;32m    904\u001b[0m                     \u001b[0;34m\"Reshape your data either using array.reshape(-1, 1) if \"\u001b[0m\u001b[0;34m\u001b[0m\u001b[0;34m\u001b[0m\u001b[0m\n",
            "\u001b[0;31mValueError\u001b[0m: Expected 2D array, got 1D array instead:\narray=[-7.01133236e-02  1.52614927e+00  2.53698472e-02 -3.78919870e-01\n -4.42873836e-02 -6.43811598e-02  3.46115798e-01 -5.34968257e-01\n  4.21226680e-01 -6.84282959e-01  8.35985363e-01  2.56860942e-01\n  6.02248218e-03 -8.32898915e-01 -4.27876890e-01  3.53113621e-01\n -1.05500805e+00  2.16096975e-02  1.44859397e+00 -1.46257222e-01\n -1.44513607e-01  1.17746711e+00  1.54212434e-02 -1.27274990e-01\n -3.63162130e-01  4.02150273e-01 -8.62334788e-01  3.27129662e-01\n -1.43920958e-01  1.08492672e+00 -9.39331353e-02 -7.24775195e-01\n  1.11520186e-01 -4.69090730e-01  1.35809332e-01 -8.46475303e-01\n -2.52943128e-01  4.35957052e-02  1.34669095e-01 -7.46790588e-01\n  7.58891702e-01 -1.08231997e+00  1.29284370e+00 -7.26692975e-02\n -9.75235328e-02 -4.32223082e-01 -4.82730895e-01  1.79711446e-01\n  3.41749936e-01 -3.15545470e-01 -1.75879255e-01  6.54595867e-02\n -3.98258746e-01  1.78731239e+00  1.27062511e+00 -3.09721883e-02\n -6.42239675e-02 -1.21336877e+00 -1.83300246e-02 -8.56509745e-01\n -1.44902289e-01 -1.15171328e-01 -6.21571481e-01  2.44312301e-01\n  8.57057989e-01  1.56959683e-01  4.87753212e-01  8.97957504e-01\n  1.68876970e+00  1.57542861e+00  3.69928591e-02  1.66012138e-01\n  3.22041184e-01  3.27369481e-01  6.99805737e-01 -1.52446300e-01\n  3.43545496e-01  3.48739356e-01 -8.34362626e-01  6.14017487e-01\n -2.32638314e-01 -4.98809844e-01  6.84236050e-01 -2.92695284e-01\n -5.16420662e-01  2.13789448e-01 -1.21291733e+00 -5.31197429e-01\n  3.25511724e-01  3.08826983e-01  7.61385262e-01  8.57765615e-01\n  3.99013281e-01 -2.67909318e-01 -6.21027909e-02  3.26170385e-01\n -3.53178620e-01 -5.02518892e-01 -7.37452567e-01  1.32292557e+00\n -4.84821469e-01  7.59879351e-01  6.09284997e-01  1.19775534e-01\n  6.75193369e-01  5.86605310e-01  1.92456752e-01 -6.44271553e-01\n -1.21665728e+00  2.92792201e-01 -2.60424107e-01 -6.70528173e-01\n -7.06818521e-01 -1.43381572e+00 -3.19452345e-01 -3.94169688e-02\n -1.15256155e+00 -1.70272529e+00 -5.62026143e-01  6.38714254e-01\n  3.39363247e-01  2.28446752e-01 -1.54793009e-01 -2.40894794e-01\n  5.63944221e-01  8.60641718e-01  6.84176981e-01 -4.88860548e-01\n -6.72834218e-01 -3.39128137e-01 -3.87089461e-01  2.58493543e-01\n  4.17943567e-01 -5.61689854e-01  6.74157977e-01  4.94159460e-01\n -1.57385111e+00 -6.71070337e-01 -1.15973878e+00 -5.24203181e-01\n  3.00391793e-01  5.38276672e-01  6.51341677e-01  7.94475317e-01\n  2.56142557e-01  2.70763457e-01 -8.42937827e-01 -1.26643419e+00\n  9.09987986e-02 -3.44331115e-01 -3.39212090e-01  9.56946433e-01\n  9.97086763e-01  3.98976982e-01 -2.30971530e-01 -6.37523681e-02\n -1.52610853e-01 -1.25662220e+00 -3.20479721e-01  4.31060642e-01\n -9.77863312e-01  1.98846832e-01  4.46518930e-03  4.96979713e-01\n -1.71536371e-01  4.97156270e-02 -1.31516829e-01  1.45379230e-01\n  9.35993865e-02  2.50309646e-01  2.55762297e-03 -6.30376816e-01\n -3.31418328e-02  1.10973454e+00  1.30029607e+00 -1.14634776e+00\n -6.71999156e-01  8.35823774e-01  5.84501445e-01 -6.95629641e-02\n -7.96180487e-01  1.75362557e-01  2.41302252e-01  6.76214457e-01\n  3.04808378e-01 -1.05383642e-01  5.25116384e-01  3.54568511e-01\n -6.31231844e-01 -6.92374781e-02  7.67750382e-01 -2.28418723e-01\n  8.93165171e-01  1.13648564e-01 -1.82616818e+00  5.01279999e-03\n -1.22827184e+00 -1.00197077e-01 -1.30301699e-01 -2.37651672e-02\n -1.08280325e+00 -1.15521841e-01  1.98915647e-03  1.61343776e-02\n -6.12765729e-01 -4.24053073e-01 -7.25190818e-01 -1.17513128e-01\n  6.67748749e-01  2.84320842e-02 -1.03375882e-01 -8.14701140e-01\n -5.65394340e-03 -3.59964401e-01 -1.19781661e+00  5.70025146e-01\n  5.80281615e-01 -2.43696105e-02 -2.48652980e-01  1.26972618e-02\n -1.57228976e-01 -1.10664964e+00  4.32683080e-01 -1.09336838e-01\n  8.78861248e-01  7.28674769e-01  3.35905738e-02  1.39796078e-01\n  8.27336848e-01 -5.08641899e-01  7.67597377e-01  4.03879374e-01\n  2.25639403e-01 -4.90289368e-02  6.99083090e-01  1.92507699e-01\n -7.66444057e-02 -1.50872111e-01 -9.10683751e-01  6.99548498e-02\n  3.36791575e-02  6.78812444e-01  7.62054697e-02 -5.18204384e-02\n  1.90449767e-02 -1.06091266e-02 -5.65525413e-01  8.51909697e-01\n  4.15996671e-01  4.37566221e-01  2.31402740e-01 -3.47205848e-01\n -7.80140579e-01  2.43432269e-01  1.27579391e-01 -5.91263115e-01\n  3.96390676e-01  8.78545344e-01  7.22879693e-02 -5.18824875e-01\n  2.14562401e-01 -1.69239151e+00  1.01574600e+00  5.57514988e-02\n  6.01212621e-01  1.57615960e-01  7.94860423e-02 -1.85974151e-01\n -5.29393405e-02 -2.47123003e-01 -2.26511970e-01 -5.22465289e-01\n -5.59341252e-01 -1.48423648e+00 -9.89667177e-02  9.17086899e-01\n -5.33095241e-01 -3.15519065e-01 -2.30014250e-01 -8.50516796e-01\n  2.36776531e-01  2.87635386e-01 -9.81335714e-03  7.74132192e-01\n -2.88819522e-01 -7.29184628e-01  2.60628849e-01 -5.40800571e-01\n -5.33728898e-01 -6.15104556e-01  1.26978290e+00 -7.60094047e-01\n  6.86383605e-01  5.80354393e-01 -1.91769972e-01 -9.31431592e-01\n -7.90512800e-01  7.19536722e-01  9.71900940e-01 -1.44172251e-01\n  4.68491793e-01  2.85922259e-01 -5.75275958e-01  4.33244526e-01\n  5.98444998e-01 -8.00247073e-01  2.95676924e-02 -6.16821110e-01\n  4.57938164e-01  1.53159752e-01  5.28770030e-01 -8.26251209e-01\n  1.08411193e+00  2.99344957e-01  3.29483062e-01 -1.48374885e-01\n -1.42587578e+00 -9.47931230e-01 -5.08201718e-01  3.19294304e-01\n -2.18448281e-01  9.83988881e-01 -4.13592279e-01 -9.96491849e-01\n  4.01236922e-01 -1.98490515e-01 -2.09862798e-01 -1.04480755e+00\n  1.30046681e-01 -4.11861598e-01  4.08591598e-01  2.83318758e-01\n  1.01365335e-01  4.45792913e-01  7.35997736e-01 -8.35994184e-02\n  4.99142319e-01  1.76549315e-01 -1.11963317e-01  1.29387423e-01\n -5.08485973e-01 -1.00650288e-01  2.72988230e-01 -3.50277215e-01\n  1.68490624e+00 -6.54515564e-01 -6.05911136e-01 -1.39605582e-01\n -1.89113051e-01  5.48196912e-01 -9.16358888e-01 -5.72805524e-01\n  5.00745654e-01 -1.29590824e-01 -1.20520532e+00  3.93463731e-01\n -3.66562992e-01  1.90906495e-01  2.86951363e-01  1.30370891e+00\n -6.34602487e-01 -4.36078787e-01 -1.08896501e-01  9.84944999e-02\n  1.51088730e-01 -8.93791556e-01  2.98707169e-02 -6.40257969e-02\n -7.32633054e-01 -5.47369123e-01 -7.87024677e-01  4.54850420e-02\n  6.58642454e-03  5.11295982e-02 -7.88267791e-01 -9.62031633e-02\n -4.97369230e-01 -5.25558293e-01 -1.30325437e+00  1.07328629e+00\n  1.96350768e-01  3.48969162e-01 -8.44381750e-01  3.77770483e-01\n  1.95019811e-01  3.97191048e-01  9.48859811e-01  1.65401027e-01\n  6.74620390e-01  3.11955035e-01  1.48677662e-01 -2.29382843e-01\n -2.81117618e-01 -2.74790406e-01  7.84504935e-02 -9.81715798e-01\n  1.89386740e-01 -5.28658591e-02  9.21984017e-01  1.17974496e+00\n  1.26344419e+00 -2.45209057e-02 -7.82693088e-01 -2.10121676e-01\n  2.16388568e-01 -1.08630255e-01 -1.04124822e-01  4.91221309e-01\n  2.89110448e-02  4.59652185e-01  1.02477491e+00 -3.76968652e-01\n -7.24169016e-01 -4.70070422e-01  2.29710862e-01 -1.95449620e-01\n  4.69878204e-02  3.78175765e-01  7.63921857e-01  6.34592846e-02\n  8.18185434e-02 -1.05885558e-01  1.51631260e+01  7.70584345e-02\n -5.99658012e-01  4.56157416e-01  1.78676784e-01 -2.16364369e-01\n -1.01159918e+00 -3.50825191e-01 -6.70209765e-01  2.88058460e-01\n  1.69414103e-01  4.61500466e-01  1.70226976e-01  4.90367025e-01\n  9.18843150e-01  5.40694535e-01 -5.66348970e-01  3.55884492e-01\n -1.01314530e-01 -7.23277926e-01  7.04111993e-01  3.64312261e-01\n -6.88804567e-01  7.26547062e-01 -3.06799680e-01  3.10076028e-01\n  9.99298468e-02  5.06693423e-01  5.27365148e-01 -1.25687921e+00\n  9.57899034e-01  8.57564092e-01  4.31632623e-02 -2.79395748e-02\n -3.03037405e-01 -3.35469037e-01  8.03597867e-01  1.14934910e-02\n -6.68225110e-01 -8.54512930e-01  4.19778973e-01  3.43818337e-01\n  2.90521443e-01  7.36842811e-01 -4.02321339e-01 -1.61934402e-02\n  9.03346837e-01  1.20423353e+00 -2.63868093e-01  4.04412389e-01\n -8.24188948e-01  1.14755177e+00  1.09898113e-01  5.99313140e-01\n -2.93600261e-02  5.22353470e-01 -5.65448552e-02  2.26297021e-01\n  2.40072504e-01  4.55241054e-01 -1.52761871e-02 -6.43561065e-01\n -7.25091696e-02  5.41708589e-01 -2.68177211e-01  7.18249977e-01\n  2.48411790e-01 -4.41611469e-01  8.17159712e-01 -2.49725476e-01\n -6.34449482e-01  1.31702453e-01 -4.79527682e-01 -5.43449998e-01\n -2.78225780e-01 -3.82542938e-01 -1.36696422e+00 -1.39689654e-01\n -8.47035229e-01  1.60047442e-01 -2.39236191e-01  7.66736493e-02\n -3.92665416e-01 -9.47872281e-01 -8.58765423e-01 -1.51934874e+00\n  1.43504506e-02  7.27093429e-04 -4.61269379e-01  9.55589712e-02\n -1.20100486e+00 -1.08114600e+00 -2.97723025e-01  6.79149270e-01\n -6.44271970e-02 -1.18028772e+00 -5.02762258e-01 -2.87661433e-01\n -2.63554174e-02  1.24971911e-01  3.12949419e-01  7.91686028e-02\n  8.25130820e-01  6.27043545e-01  1.86403543e-01  4.80213761e-01\n  3.67045701e-02  6.50176466e-01  1.76211283e-01 -1.62451029e-01\n  5.86799681e-01 -2.10105240e-01 -3.24745178e-01 -7.91200817e-01\n  1.99635684e-01  1.92001954e-01  3.65012020e-01  4.18113410e-01\n -2.76805013e-01  8.94911140e-02  6.14166498e-01  9.40187052e-02\n  6.27887249e-01 -5.38912594e-01  6.63412455e-03 -5.99030435e-01\n -3.17340600e-03 -1.18981183e+00 -1.09292269e-01 -6.67124465e-02\n  1.49069831e-01  3.69285792e-02 -4.79698718e-01  4.21764433e-01\n  4.82498929e-02  2.37353787e-01  1.49216875e-01 -2.60705143e-01\n -5.47415242e-02 -5.35067976e-01 -4.17186826e-01  1.12401128e+00\n -2.38432318e-01 -4.59409446e-01  5.95012784e-01  1.41550288e-01\n  1.81199223e-01  6.37655914e-01  1.21277928e+00  1.17582643e+00\n -5.72104871e-01 -9.21131134e-01  2.40732834e-01 -2.80159079e-02\n  5.25716662e-01  3.34555060e-01  8.71514797e-01  9.31018829e-01\n -2.44808763e-01 -8.60514492e-02  6.75496995e-01  5.67084730e-01\n -5.25349259e-01 -5.06476164e-01  2.48968676e-01 -1.27124459e-01\n -2.36950740e-01  4.52373743e-01  1.16204269e-01 -8.35652769e-01\n -6.70188189e-01  1.29152521e-01 -1.01925266e+00 -3.08050096e-01\n -5.43975793e-02 -3.29739809e-01 -3.53799134e-01  5.19590855e-01\n -5.74300349e-01  5.11522889e-01 -9.51404214e-01  9.83999312e-01\n  1.63763519e-02 -1.26226157e-01  4.34628695e-01 -9.69057441e-01\n -8.88108611e-02 -2.19307579e-02 -5.91466367e-01 -3.38392943e-01\n  1.00414403e-01 -6.82473034e-02 -1.03456771e+00 -3.11479360e-01\n -2.48501580e-02 -3.47028553e-01 -6.26630366e-01 -9.27361250e-01\n -1.61872238e-01 -6.06329799e-01  3.62874150e-01 -1.25662184e+00\n  3.49546641e-01  1.49045870e-01 -6.37384415e-01 -7.80478239e-01\n -3.84831458e-01  8.38447273e-01 -4.22648102e-01  3.49124640e-01\n  3.73611778e-01  1.18016243e+00  4.54366088e-01 -7.88190544e-01\n -7.76313245e-02  2.32692853e-01 -1.12025762e+00 -3.83360386e-01\n -5.81232548e-01 -1.41973114e+00  7.49075294e-01 -4.44759905e-01\n -4.69554216e-01 -1.63749784e-01  6.44532859e-01  4.05783504e-01\n -7.24462271e-01  8.17821175e-02  8.62576008e-01 -1.66408196e-01\n -6.15383387e-01 -5.16396940e-01  1.62280232e-01  7.84135580e-01\n -3.41113538e-01  6.41120434e-01 -3.59718591e-01  1.24845572e-01\n -4.47079927e-01  8.15531254e-01  9.34967697e-01  6.68564856e-01\n  1.62772429e+00  7.41435349e-01  5.01749277e-01 -5.68530440e-01\n -3.52732122e-01 -5.53845823e-01 -1.30054772e+00 -6.28621519e-01\n -4.82885897e-01 -9.90727097e-02 -2.94133858e-03  9.95372474e-01\n -3.81887168e-01 -8.76630723e-01 -8.56781527e-02 -3.54217708e-01\n  4.38747883e-01 -1.93565845e-01  5.27270496e-01  7.73264349e-01\n -4.39279407e-01 -2.00954407e-01  3.77126575e-01  7.87447155e-01\n  1.80451721e-01  7.50511587e-01 -4.79288429e-01 -2.61721641e-01\n -7.35039592e-01  4.60480213e-01  1.23333681e+00 -4.89943981e-01\n  9.01578665e-01 -6.54995382e-01  1.04804301e+00 -3.56690913e-01\n  6.23085916e-01 -3.08154523e-01 -5.27501523e-01  2.68502742e-01\n -1.20703566e+00 -2.46783614e-01  5.75680971e-01 -7.27610528e-01\n -1.14668861e-01 -5.82499653e-02 -5.96513391e-01  8.90393704e-02\n  1.16101265e+00  6.73021019e-01  7.46755719e-01 -1.64562032e-01\n -2.06672400e-01 -1.72558665e-01  1.21644139e-01  6.72553003e-01\n  4.77123111e-01  4.69021127e-02  6.29916608e-01  8.19974095e-02\n -4.08003837e-01  5.14499605e-01 -1.26384035e-01  4.85940337e-01\n  9.21069682e-02 -1.05867684e+00  2.72022188e-01  1.39398351e-01\n  6.78601503e-01  1.73984855e-01 -1.13325071e+00  2.87853569e-01\n -2.90302366e-01  9.65081871e-01 -1.29758433e-01 -8.22724760e-01\n  5.61624587e-01  3.27590257e-01 -2.55160511e-01 -4.06666666e-01\n -5.71445048e-01  7.62032866e-01  3.87621671e-01 -4.91421908e-01\n -3.74320120e-01 -7.76803792e-01 -1.20046365e+00 -7.55742311e-01\n  6.05208278e-01 -1.19319856e+00 -4.56353188e-01  1.12347782e+00\n  4.61356699e-01 -6.35446250e-01  7.09818363e-01  6.25331938e-01\n  7.31664971e-02 -6.56954288e-01 -1.52221099e-01 -2.46034324e-01\n -2.29819834e-01 -5.97161613e-02 -2.69213587e-01 -2.88437665e-01].\nReshape your data either using array.reshape(-1, 1) if your data has a single feature or array.reshape(1, -1) if it contains a single sample."
          ]
        }
      ]
    },
    {
      "cell_type": "code",
      "source": [
        "new_term = [\"apple\"]\n",
        "is_synonym(new_term)"
      ],
      "metadata": {
        "colab": {
          "base_uri": "https://localhost:8080/",
          "height": 36
        },
        "id": "RaZvPfVOvq60",
        "outputId": "a360b3ce-7592-4d48-9fb4-8c92e812005e"
      },
      "execution_count": 33,
      "outputs": [
        {
          "output_type": "execute_result",
          "data": {
            "text/plain": [
              "'is synonym to PLS with a similarity score of 0.8802676200866699'"
            ],
            "application/vnd.google.colaboratory.intrinsic+json": {
              "type": "string"
            }
          },
          "metadata": {},
          "execution_count": 33
        }
      ]
    },
    {
      "cell_type": "code",
      "source": [
        "is_synonym(\"apple\")"
      ],
      "metadata": {
        "id": "-PzIncDO32vs"
      },
      "execution_count": null,
      "outputs": []
    },
    {
      "cell_type": "code",
      "source": [
        "new_term = [\"Information Retrieval\"]\n",
        "is_synonym(new_term)"
      ],
      "metadata": {
        "colab": {
          "base_uri": "https://localhost:8080/",
          "height": 53
        },
        "id": "tDJTQ2PHvy-M",
        "outputId": "186335f8-667e-42ac-ab85-ab5533f56b24"
      },
      "execution_count": 28,
      "outputs": [
        {
          "output_type": "execute_result",
          "data": {
            "text/plain": [
              "'is synonym to natural language processing with a similarity score of 0.8684603571891785'"
            ],
            "application/vnd.google.colaboratory.intrinsic+json": {
              "type": "string"
            }
          },
          "metadata": {},
          "execution_count": 28
        }
      ]
    },
    {
      "cell_type": "code",
      "source": [
        "import pickle\n",
        "\n",
        "def save_embeddings_to_pickle(embeddings, filename):\n",
        "    \"\"\"\n",
        "    Saves embeddings to a pickle file.\n",
        "\n",
        "    Args:\n",
        "        embeddings: A dictionary mapping terms to their corresponding embedding vectors.\n",
        "        filename: The name of the pickle file to save the embeddings.\n",
        "    \"\"\"\n",
        "    with open(filename, 'wb') as f:\n",
        "        pickle.dump(embeddings, f)\n",
        "\n"
      ],
      "metadata": {
        "id": "VMXg-IfRwhAE"
      },
      "execution_count": 32,
      "outputs": []
    },
    {
      "cell_type": "code",
      "source": [
        "save_embeddings_to_pickle(embeddings_ontology, 'embeddings_ontology.pkl')"
      ],
      "metadata": {
        "id": "EC0L7ieCwkoc"
      },
      "execution_count": 30,
      "outputs": []
    },
    {
      "cell_type": "code",
      "source": [
        "save_embeddings_to_pickle(embeddings_synonyms, 'embeddings_synonyms.pkl')"
      ],
      "metadata": {
        "id": "LDu9pJyqwmfY"
      },
      "execution_count": 31,
      "outputs": []
    }
  ]
}